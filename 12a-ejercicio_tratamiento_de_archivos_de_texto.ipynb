{
 "cells": [
  {
   "cell_type": "markdown",
   "metadata": {},
   "source": [
    "# Ejercicios: tratamiento de archivos con formato en texto plano\n"
   ]
  },
  {
   "cell_type": "markdown",
   "metadata": {},
   "source": [
    "## Problema\n",
    "\n",
    "En al archivo de texto `puntajes_2020.txt` se encuentran almacenados los puntajes de un conjunto de personas que postularon a un cargo administrativo para una empresa de reclutamiento de profesionales.\n",
    "\n",
    "1. Considerando que los cargos disponibles son 25, diseñe una función para obtener dos listas:\n",
    "    - 25 mejores puntajes que seran aceptados para los cargos disponibles, y\n",
    "    - 5 siguientes mejores puntajes que corresponde la lista de espera.\n",
    "2. Diseñe una función para obtener el promedio de los puntajes de las personas seleccionadas para los cargos disponibles.\n",
    "3. Diseñe una función que entregue todos los puntajes menores a un puntaje determinado."
   ]
  }
 ],
 "metadata": {
  "kernelspec": {
   "display_name": "Python 3",
   "language": "python",
   "name": "python3"
  },
  "language_info": {
   "codemirror_mode": {
    "name": "ipython",
    "version": 3
   },
   "file_extension": ".py",
   "mimetype": "text/x-python",
   "name": "python",
   "nbconvert_exporter": "python",
   "pygments_lexer": "ipython3",
   "version": "3.7.3"
  }
 },
 "nbformat": 4,
 "nbformat_minor": 2
}
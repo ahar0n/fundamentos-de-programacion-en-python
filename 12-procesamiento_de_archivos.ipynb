{
 "cells": [
  {
   "source": [
    "# Procesamiento de archivos\n",
    "\n",
    "### Contenidos\n",
    "\n",
    "1. Archivos de texto\n",
    "1. Flujo de trabajo con archivos\n",
    "1. Operaciones básicas con archivos\n",
    "\n",
    "\n"
   ],
   "cell_type": "markdown",
   "metadata": {}
  },
  {
   "cell_type": "markdown",
   "metadata": {},
   "source": [
    "10111111 01010100 01100101 00100000 01110100 01101111 01101101 01100001 01110011 01110100 01100101 00100000 01100101 01101100 00100000 01110100 01101001 01100101 01101101 01110000 01101111 00100000 01110000 01100001 01110010 01100001 00100000 01110100 01110010 01100001 01100100 01110101 01100011 01101001 01110010 00100000 01100101 01110011 01110100 01101111 00111111 00100000 01000111 01100001 01101110 01100001 01110011 01110100 01100101 00100000 00110000 00101110 00110101 00100000 01110000 01110101 01101110 01110100 01101111 01110011 00100000 01110000 01100001 01110010 01100001 00100000 01101100 01100001 00100000 01110000 01110010 11110011 01111000 01101001 01101101 01100001 00100000 01100101 01110110 01100001 01101100 01110101 01100001 01100011 01101001 11110011 01101110 00101110 00100000 01010011 01101001 00100000 01100100 01101001 01110011 01100101 11110001 01100001 01110011 00100000 01110101 01101110 00100000 01110000 01110010 01101111 01100111 01110010 01100001 01101101 01100001 00100000 01100101 01101110 00100000 01010000 01111001 01110100 01101000 01101111 01101110 00100000 01110000 01100001 01110010 01100001 00100000 01110100 01110010 01100001 01100100 01110101 01100011 01101001 01110010 01101100 01101111 00101100 00100000 01101111 01100010 01110100 01101001 01100101 01101110 01100101 01110011 00100000 00110000 00101110 00110101 00100000 01110000 01110101 01101110 01110100 01101111 01110011 00100000 01100001 01100100 01101001 01100011 01101001 01101111 01101110 01100001 01101100 01100101 01110011 00101110 00100000 00101000 01110011 11110011 01101100 01101111 00100000 00110001 00100000 01100101 01110011 01110100 01110101 01100100 01101001 01100001 01101110 01110100 01100101 00101001"
   ]
  },
  {
   "cell_type": "markdown",
   "metadata": {},
   "source": [
    "## Aspectos relacionados al procesamiento de archivos\n",
    "\n",
    "Habitualmente, el uso de datos y su procesamiento plantea algunas de las siguientes limitaciones:\n",
    "\n",
    "- __Limitada capacidad de almacenamiento__ en la memoria central del ordenador.\n",
    "- El almacenamiento de datos en la __memoria central es volatil__.\n",
    "\n",
    "Estas limitaciones se pueden superar __almacenando los datos en archivos__ organizados de forma jerárquica en dispositivos de almacenamiento secundario."
   ]
  },
  {
   "source": [
    "## Características de un archivo\n",
    "\n",
    "- Es un flujo de _bits_ tratado por el OS como una unidad lógica. \n",
    "- Su __tamaño__ puede ser cualquier número entero no negativo de ___bytes___. \n",
    "- La interpretación de su estructura básica (e.g. programa, texto, imagen), depende del software y se basa en su __nombre__ y __contenido__."
   ],
   "cell_type": "markdown",
   "metadata": {}
  },
  {
   "cell_type": "markdown",
   "metadata": {},
   "source": [
    "## Operaciones básicas para la gestión de archivos de texto\n",
    "\n",
    "La gestión de archivos que tratan con la propia estructura del archivo son:\n",
    "\n",
    "- __Create__: Crear una archivo mediante su nombre u atributos.\n",
    "- __Open__: Establece la comunicación de la CPU con el soporte físico del archivo, de forma que los registros se vuelven accesibles para su lectura y/o escritura.\n",
    "- __Append__: Incrementar, ampliar el tamaño del archivo.\n",
    "- __Delete__: Eliminar el archivo del soporte físico.\n",
    "- __Read/Write__: Transferencia de datos entre el archivo y la memoria central."
   ]
  },
  {
   "cell_type": "markdown",
   "metadata": {},
   "source": [
    "En el tratamiento de archivo, es una buena práctica seguir siguiente secuencia de pasos:\n",
    "\n",
    "1. __Apertura del archivo__, indicando su ubicación (_path_) y modo de tratamiento de la información (e.g. _read_, _write_)\n",
    "2. __Transferencia de datos__ desde o hacia el archivo.\n",
    "3. __Cerrar archivo__."
   ]
  },
  {
   "cell_type": "markdown",
   "metadata": {},
   "source": [
    "### Abrir archivo\n",
    "\n",
    "La función [`open()`](https://docs.python.org/3/library/functions.html#open), recibe como arguento dos parámetros: valor de tipo `str` con el __nombre del archivo__ (o ubicación) y el __modo de apertura__ del archivo, que puede ser:\n",
    "\n",
    "- `'r'`: abrir para leer.\n",
    "- `'w'`: abrir para escribir.\n",
    "- `'a'`: abrir para escribir, adjuntando los datos al final si existe contenido.\n",
    "\n",
    "Además, por defecto, Python abre los archivo en modo de texto `'rt'`: `read` `text`."
   ]
  },
  {
   "cell_type": "code",
   "execution_count": null,
   "metadata": {},
   "outputs": [],
   "source": [
    "mi_archivo = open('./data/lorem_ipsum.txt')"
   ]
  },
  {
   "cell_type": "markdown",
   "metadata": {},
   "source": [
    "La función, retorna un objeto de tipo [_file object_](https://docs.python.org/3/glossary.html#term-file-object) a través del cual se pude manipular el contenido del archivo."
   ]
  },
  {
   "cell_type": "code",
   "execution_count": null,
   "metadata": {},
   "outputs": [],
   "source": [
    "type(mi_archivo)"
   ]
  },
  {
   "cell_type": "markdown",
   "metadata": {},
   "source": [
    "En el caso que se intente leer un archivo que no existe, Python (3.X) retorna una excepción de tipo `FileNotFoundError`. Dos alternativas para el tratamiento de este error, consisten en:\n",
    "\n",
    "- Validar si el archivo existe en la ruta especificada:"
   ]
  },
  {
   "cell_type": "code",
   "execution_count": null,
   "metadata": {},
   "outputs": [],
   "source": [
    "from os import path\n",
    "\n",
    "if path.exists('./data/lorem_ipsum.txt'):\n",
    "    # tratamiento del archivo aqui!\n",
    "    pass\n",
    "else:\n",
    "    print('Archivo no encontrado!')"
   ]
  },
  {
   "cell_type": "markdown",
   "metadata": {},
   "source": [
    "El modulo `os.path` implementa algunas funciones útiles sobre las rutas. Se recomienda que las aplicaciones para Windows representen los nombres de archivo como cadenas de caracteres (Unicode)</strong>."
   ]
  },
  {
   "cell_type": "markdown",
   "metadata": {},
   "source": [
    "- Capturar la excepción que genera el intento de apertura del archivo:"
   ]
  },
  {
   "cell_type": "code",
   "execution_count": null,
   "metadata": {
    "scrolled": true
   },
   "outputs": [],
   "source": [
    "try:\n",
    "    mi_archivo = open('./data/lorem_ipsum.txt')\n",
    "    # tratamiento del archivo aqui!\n",
    "except FileNotFoundError:\n",
    "    print('Archivo no encontrado!')"
   ]
  },
  {
   "cell_type": "markdown",
   "metadata": {},
   "source": [
    "### Cerrar archivos\n",
    "\n",
    "El método `close()`, soportado por el objeto _file_, cierra el fichero. La ejecución de esta acción permite,\n",
    "- __después de escribir contenido__, que los datos sean almacenados en disco.\n",
    "- __después de leer__, que se libere la memoria usada para manipular el archivo."
   ]
  },
  {
   "cell_type": "code",
   "execution_count": null,
   "metadata": {},
   "outputs": [],
   "source": [
    "mi_archivo.close()"
   ]
  },
  {
   "cell_type": "markdown",
   "metadata": {},
   "source": [
    "### Leer caracteres\n",
    "\n",
    "El método `read()` que recibe como argumento un valor en _bytes_, retorna una cadena de texto equivalente a la cantidad de _bytes_ leidos. \n",
    "\n",
    "- Cuando no hay más _bytes_ por leer, el método retorna una cadena vacía `''`. \n",
    "\n",
    "Por ejemplo, la siguiente función calcula de forma iterativa _byte_ por _byte_ la cantidad de bytes (o caracteres) que contiene el archivo `lorem_ipsum.txt`."
   ]
  },
  {
   "cell_type": "code",
   "execution_count": null,
   "metadata": {},
   "outputs": [],
   "source": [
    "def filesize(filename):\n",
    "    # 1. apertura\n",
    "    mi_archivo = open(filename)\n",
    "    # 2. tratamiento del contenido\n",
    "    mi_archivo_peso = 0\n",
    "    while mi_archivo.read(1) != '':\n",
    "        mi_archivo_peso += 1\n",
    "    # 3. cierre\n",
    "    mi_archivo.close()\n",
    "    return mi_archivo_peso"
   ]
  },
  {
   "cell_type": "code",
   "execution_count": null,
   "metadata": {},
   "outputs": [],
   "source": [
    "print('{} bytes'.format(filesize('./data/lorem_ipsum.txt')))"
   ]
  },
  {
   "cell_type": "markdown",
   "metadata": {},
   "source": [
    "### Leer líneas \n",
    "\n",
    "El método `readline()` lee una línea entera del archivo, seguido del carácter de línea nueva `'\\n'`. Cuando un valor en _bytes_ esta presente como argumento, retorna una cadena de texto, equivalente a la cantidad de _bytes_ (incluyendo el carácter de línea nueva).\n",
    "\n",
    "- Cuando no hay más _bytes_ por leer, el método retorna una cadena vacía `''`. \n",
    "\n",
    "El siguiente ejemplo, imprime el contenido del archivo de texto `lorem_ipsum.txt` con su respectivo número de línea."
   ]
  },
  {
   "cell_type": "code",
   "execution_count": null,
   "metadata": {},
   "outputs": [],
   "source": [
    "# 1. apertura\n",
    "mi_archivo = open('./data/lorem_ipsum.txt', 'r') \n",
    "# 2. tratamiento\n",
    "ln = 1\n",
    "while True:\n",
    "    linea = mi_archivo.readline()\n",
    "    if linea != '':\n",
    "        print('{0:>2} '.format(ln), linea.rstrip('\\n'))\n",
    "        ln += 1\n",
    "    else:\n",
    "        break\n",
    "# 3 cierre\n",
    "mi_archivo.close()"
   ]
  },
  {
   "source": [
    "__NOTA:__ La función [`rstrip()`](https://python-reference.readthedocs.io/en/latest/docs/str/rstrip.html) retorna una copia de la cadena sin los caracteres finales que se le pasan como argumento. Otras funciones utiles con fines similares son `strip()` y `lstrip()`."
   ],
   "cell_type": "markdown",
   "metadata": {}
  },
  {
   "cell_type": "markdown",
   "metadata": {},
   "source": [
    "### Escritura de archivos\n",
    "\n",
    "El método `write()` escribe cualquier cadena de texto en un archivo abierto en modo de escritura: `'w'` o `'a'`. \n",
    "\n",
    "El siguiente ejemplo escribe en un archivo el contenido de una cadena de texto."
   ]
  },
  {
   "cell_type": "code",
   "execution_count": null,
   "metadata": {},
   "outputs": [],
   "source": [
    "mi_texto = 'Esta es una frase.\\nEsta es otra frase en una nueva línea.'\n",
    "# 1. apertura\n",
    "fout = open('./data/output.txt', 'w')\n",
    "# 2. tratamiento (escritura)\n",
    "fout.write(mi_texto)\n",
    "# 3. cierre\n",
    "fout.close()"
   ]
  },
  {
   "cell_type": "code",
   "execution_count": null,
   "metadata": {},
   "outputs": [],
   "source": [
    "!cat data/output.txt"
   ]
  },
  {
   "cell_type": "markdown",
   "metadata": {},
   "source": [
    "### Agregar datos a un archivo existente\n",
    "\n",
    "Para agregar datos a un archivo abierto, dicho archivo debe estar abierto en modo `'a'`. Para este caso, el método `write()`, añade al final del contenido del archivo, cualquier cadena de texto.\n",
    "\n",
    "El siguiente ejemplo, solicita de forma iterativa una cadena de texto que es añadida al fichero de texto `notes.txt`. En consecuencia, el fichero crece en una línea cada vez que se ingresa texto:"
   ]
  },
  {
   "cell_type": "code",
   "execution_count": null,
   "metadata": {},
   "outputs": [],
   "source": [
    "def agregar_linea(ruta, linea):\n",
    "    mi_archivo = open(ruta, 'a')\n",
    "    mi_archivo.write(linea + '\\n')\n",
    "    mi_archivo.close()\n",
    "\n",
    "ruta = './data/notes.txt'\n",
    "while True:\n",
    "    nota = input('Ingresa una nota [Enter para salir]: ')\n",
    "    if nota == '':\n",
    "        break\n",
    "    else:\n",
    "        agregar_linea(ruta, nota)"
   ]
  },
  {
   "cell_type": "markdown",
   "metadata": {},
   "source": [
    "### Renombrar y eliminar archivos\n",
    "\n",
    "El método `rename()` de la libreria [`os`](https://docs.python.org/3/library/os.html), recibe como argumento dos cadenas de texto, correspondiente al nombre original del archivo y al nuevo nombre del archivo, respectivamente."
   ]
  },
  {
   "cell_type": "code",
   "execution_count": null,
   "metadata": {},
   "outputs": [],
   "source": [
    "from os import rename\n",
    "\n",
    "rename('./data/notes.txt', './data/new_notes.txt')"
   ]
  },
  {
   "cell_type": "markdown",
   "metadata": {},
   "source": [
    "Por otra parte, la función `remove()` elimina un archivo a partir de su nombre, recibido como argumento."
   ]
  },
  {
   "cell_type": "code",
   "execution_count": null,
   "metadata": {},
   "outputs": [],
   "source": [
    "from os import remove\n",
    "\n",
    "remove('./data/new_notes.txt')"
   ]
  },
  {
   "cell_type": "markdown",
   "metadata": {},
   "source": [
    "__NOTA__: Es importante notar que una excepción de tipo `FileNotFoundError` se puede alcanzar en la ejecución del _script_ anterior, esto, en el caso que no se encuentren los archivos objetivos de renombrar y elimnar."
   ]
  },
  {
   "source": [
    "## Actividades\n",
    "\n",
    "A1. En un archivo con texto en formato plano se almacena el resumen de un artículo escrito con letras minúsculas. Considerando que existe una regla gramatical que establece que después de cualquier punto se debe comenzar con una letra mayúsculas, diseñe una función que corrija el resumen lo alacene en un nuevo archivo.\n",
    "\n",
    "__NOTA__: Recordar que ([...](http://www.rae.es/consultas/ortografia-de-los-signos-de-interrogacion-y-exclamacion)) cuando un símbolo de exclamación o interrogación constituyen el final de un enunciado, la palabra siguiente se escribe con mayúscula inical.\n",
    "\n",
    "A2. Investigue y describa el uso de la sentencia `with`. Presente un ejemplo."
   ],
   "cell_type": "markdown",
   "metadata": {}
  }
 ],
 "metadata": {
  "kernelspec": {
   "display_name": "Python 3",
   "language": "python",
   "name": "python3"
  },
  "language_info": {
   "codemirror_mode": {
    "name": "ipython",
    "version": 3
   },
   "file_extension": ".py",
   "mimetype": "text/x-python",
   "name": "python",
   "nbconvert_exporter": "python",
   "pygments_lexer": "ipython3",
   "version": "3.8.3-final"
  }
 },
 "nbformat": 4,
 "nbformat_minor": 2
}
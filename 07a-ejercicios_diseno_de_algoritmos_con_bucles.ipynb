{
 "cells": [
  {
   "cell_type": "markdown",
   "metadata": {},
   "source": [
    "# Ejercicios: diseno de algoritmos con bucles"
   ]
  },
  {
   "source": [
    "E1. Diseñe un programa que calcule la suma de números ingresados por el usuario. El programa deberá mostrar el resultado cuando el usuario igrese el valor cero. Por ejemplo,\n",
    "\n",
    "```\n",
    "n: 1\n",
    "n: 2\n",
    "n: 54\n",
    "n: 0\n",
    "suma = 58\n",
    "```"
   ],
   "cell_type": "markdown",
   "metadata": {}
  },
  {
   "source": [
    "E2. Diseñe una versión alternitava del ejercicio anterior para que cada vez que se solicite un nuevo valor se muestre la suma acumulada. Por ejemplo,\n",
    "\n",
    "```\n",
    "n: 1\n",
    "n: 2\n",
    "suma = 3\n",
    "n: 54\n",
    "suma = 58\n",
    "n: 0\n",
    "suma: 58\n",
    "```"
   ],
   "cell_type": "markdown",
   "metadata": {}
  },
  {
   "source": [
    "E3. Diseñe una versión alternativa del programa anterior utilizando la instrucción `break`. Además, considerando que el usuario podría ingresar números reales, agregue las validaciones necesarias para que el programa calculé la sumatoria solo de los valores enteros. Por ejemplo,\n",
    "\n",
    "```\n",
    "n: 1\n",
    "n: 2\n",
    "suma = 3\n",
    "n: 23.2\n",
    "n: 5\n",
    "suma = 8\n",
    "n: 14\n",
    "suma: 22\n",
    "```\n",
    "\n"
   ],
   "cell_type": "markdown",
   "metadata": {}
  },
  {
   "cell_type": "markdown",
   "metadata": {},
   "source": [
    "E4. Diseñe un programa que calcule el promedio simple, de notas ingresadas por el usuario. El programa debe finalizar cuando presione la tecla ```ENTER``` sin ingresa un valor, y deberá mostrar el promedio calculado apróximado con un decimal. Además, el programa deberá omitir aquellos valores (numeros y caracteres) que se encuentran fuera del dominio (1 - 7).\n",
    "\n",
    "Por ejemplo:\n",
    "\n",
    "```\n",
    "Nota 1 : 5.0\n",
    "Nota 2 : x\n",
    "Ingrese un valor numérico!\n",
    "Nota 2 : 5.5\n",
    "Nota 3 : 7.1\n",
    "Valor fuera de dominio, ingrese nuevamente!\n",
    "Nota 3 : \n",
    "El promedio es 5.3\n",
    "```\n"
   ]
  },
  {
   "cell_type": "markdown",
   "metadata": {},
   "source": [
    "E5. Diseñe un programa que muestre los numeros primos que existen entre dos números ingresados.\n",
    "\n",
    "```\n",
    "Número menor: 1\n",
    "Número mayor: 20\n",
    "2\n",
    "3\n",
    "5\n",
    "7\n",
    "11\n",
    "13\n",
    "17\n",
    "19\n",
    "```"
   ]
  },
  {
   "cell_type": "markdown",
   "metadata": {},
   "source": [
    "E6. Los primos gemelos son una pareja de números primos cuya diferencia entre el mayor y el menor es igual a 2. Por ejemplo, 5 y 7 son primos gemelos. Diseñar un programa que muestre todos los números primos gemelos que existen entre dos números naturales positivos ingresados.\n",
    "\n",
    "```\n",
    "Número menor: 1\n",
    "Número mayor: 50\n",
    "(3,5)\n",
    "(5,7)\n",
    "(11,13)\n",
    "(17,19)\n",
    "(29,31)\n",
    "(41,43)\n",
    "```"
   ]
  }
 ],
 "metadata": {
  "kernelspec": {
   "display_name": "Python 3",
   "language": "python",
   "name": "python3"
  },
  "language_info": {
   "codemirror_mode": {
    "name": "ipython",
    "version": 3
   },
   "file_extension": ".py",
   "mimetype": "text/x-python",
   "name": "python",
   "nbconvert_exporter": "python",
   "pygments_lexer": "ipython3",
   "version": "3.7.6-final"
  }
 },
 "nbformat": 4,
 "nbformat_minor": 2
}
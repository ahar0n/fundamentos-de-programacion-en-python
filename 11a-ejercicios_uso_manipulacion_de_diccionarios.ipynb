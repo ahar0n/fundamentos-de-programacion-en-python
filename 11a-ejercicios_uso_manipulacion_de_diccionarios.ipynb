{
 "cells": [
  {
   "cell_type": "markdown",
   "metadata": {},
   "source": [
    "# Ejercicios: uso y manipulación de diccionarios\n"
   ]
  },
  {
   "cell_type": "markdown",
   "metadata": {},
   "source": [
    "1. Diseñar la función `longitud(texto)` que retorne un diccionario que asocie a cada palabra contenida en el texto, su cantidad de letras.\n",
    "1. Diseñar la función `cuenta_palabras(texto)` que retorne un diccionario que asocie a cada palabra la cantidad de veces que aparece en el `texto`.\n",
    "1. Diseñar la función `invertido(diccionario)` que retorne un diccionario cuyas claves sean los valores del dicionario `diccionario` y cuyos valores sean las respectivas claves.\n",
    "1. El diccionario ```horario``` contiene las asignaturas asociadas al día de clases:\n"
   ]
  },
  {
   "cell_type": "code",
   "execution_count": 1,
   "metadata": {},
   "outputs": [],
   "source": [
    "horario = {\n",
    "    'Lunes': ['Cálculo I', 'Algebra I', 'Geometría y Trigonometría'],\n",
    "    'Martes': ['Algebra I', 'Topográfia I'],\n",
    "    'Miercoles': ['Calculo I', 'Algebra I'],\n",
    "    'Jueves': ['Topografía I'],\n",
    "    'Viernes': ['Geometría y Trigonometría', 'Topografía']\n",
    "}"
   ]
  },
  {
   "cell_type": "markdown",
   "metadata": {},
   "source": [
    "- Diseñar la función ```dias_con_clase(asignatura)``` que retorne los días que se tiene clase de la asignatura recibida como argumento.\n",
    "- Diseñar la función ```asignaturas_comunes(horario, a, b)``` que retorne las asignaturas que se dictan en el día ```a``` y también en el día ```b```.\n",
    "- Diseñar la función ```existe(asignatura)``` que retorne ```True``` o ```False``` si la asignatura se encuentra o no registrada en el horario.\n"
   ]
  }
 ],
 "metadata": {
  "kernelspec": {
   "display_name": "Python 3",
   "language": "python",
   "name": "python3"
  },
  "language_info": {
   "codemirror_mode": {
    "name": "ipython",
    "version": 3
   },
   "file_extension": ".py",
   "mimetype": "text/x-python",
   "name": "python",
   "nbconvert_exporter": "python",
   "pygments_lexer": "ipython3",
   "version": "3.8.3-final"
  }
 },
 "nbformat": 4,
 "nbformat_minor": 2
}
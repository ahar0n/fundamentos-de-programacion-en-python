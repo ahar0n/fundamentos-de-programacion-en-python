{
 "cells": [
  {
   "cell_type": "markdown",
   "metadata": {},
   "source": [
    "# Sentencias básicas\n",
    "### Contenidos\n",
    "\n",
    "1. Sentencias de entrada\n",
    "1. Sentencias de salida y formato\n",
    "1. Comentarios\n",
    "1. Funciones integradas\n",
    "1. Errores\n",
    "---\n",
    "1. Diseño de algoritmos\n",
    "1. Representación gráfica de algoritmos\n",
    "1. Diseño de programas en Python\n",
    "1. Sentencias de entrada y salida\n",
    "1. Comentarios en el código\n",
    "1. Verificación, depuración y errores\n",
    "\n",
    "\n"
   ]
  },
  {
   "cell_type": "markdown",
   "metadata": {},
   "source": [
    "Un algoritmo se representa por medio de un conjunto de sentencias del lenguaje de programación, de forma que cada una de ellas es una orden que indica al computador la realización de una tarea específica.\n",
    "\n",
    "Una __sentencia__ es el __elemento independiente más pequeño__ de un lenguaje de programación imperativo que expresa alguna acción a realizar.\n",
    "\n",
    "Un programa está formado por una secuencia de una o más sentencias, la cual puede tener componentes internos, como por ejemplo, instrucciones, expresiones, entre otros."
   ]
  },
  {
   "source": [
    "## Sentencia de entrada\n",
    "\n",
    "La función ```input()``` permiten al usuario ingresar datos al programa.\n",
    "- La función solicita al usuario __ingresar un dato__ que puede ser asignado a una variable.\n",
    "- El __argumento__ es el mensaje que se le muestra al usuario antes que ingrese el dato. \n",
    "- El __valor ingresado__ se interpreta como un dato de tipo ```str```."
   ],
   "cell_type": "markdown",
   "metadata": {}
  },
  {
   "cell_type": "code",
   "execution_count": null,
   "metadata": {},
   "outputs": [],
   "source": [
    "n = input('Ingrese un valor: ')\n",
    "type(n)"
   ]
  },
  {
   "cell_type": "markdown",
   "metadata": {},
   "source": [
    "Si el dato ingresado es necesario usarlo como otro tipo, __debe ser convertido explícitamente__.\n",
    "- Sin embargo, si se ingresa caracteres que no tienen representación en el tipo de dato, se retornará una excepción de tipo ```ValueError```.\n",
    "    \n",
    "Por ejemplo, para convertir un dato de entrada en ```float``` y asignarlo a la variable ```f```, la siguiente sintaxis, por medio de la función ```float()```, realiza la transformación del dato ingresado:"
   ]
  },
  {
   "cell_type": "code",
   "execution_count": null,
   "metadata": {},
   "outputs": [],
   "source": [
    "f = float(input('Ingrese un valor: '))\n",
    "type(f)"
   ]
  },
  {
   "cell_type": "markdown",
   "metadata": {},
   "source": [
    "## Sentencia de salida\n",
    "La forma más simple de mostrar (imprimir, desplegar) datos es utilizando la sentencia (o función) `print()`. Esta función, recibe como argumento el(los) dato(s) a mostrar. Por ejemplo,"
   ]
  },
  {
   "cell_type": "code",
   "execution_count": null,
   "metadata": {},
   "outputs": [],
   "source": [
    "print(f)"
   ]
  },
  {
   "cell_type": "markdown",
   "metadata": {},
   "source": [
    "El siguiente ejemplo muestra multiples argumentos."
   ]
  },
  {
   "cell_type": "code",
   "execution_count": null,
   "metadata": {},
   "outputs": [],
   "source": [
    "dia = 23\n",
    "mes = 'Junio'\n",
    "print('El aniversario es el', dia, 'de', mes, '.')"
   ]
  },
  {
   "cell_type": "markdown",
   "metadata": {},
   "source": [
    "Otro alternativa, utilizando anidación de datos,"
   ]
  },
  {
   "cell_type": "code",
   "execution_count": null,
   "metadata": {},
   "outputs": [],
   "source": [
    "print('El aniversario es el ' + str(dia) + ' de ' + mes + '.')"
   ]
  },
  {
   "cell_type": "markdown",
   "metadata": {},
   "source": [
    "Existen [diversas formas](https://docs.python.org/3/tutorial/inputoutput.html#fancier-output-formatting) para establecer el formato de salida a los datos:\n",
    "\n",
    "Utilizando  __literales de cadenas formateadas__,\n",
    "- Debe iniciar la cadena con el caracter `f` o `F`, antes de la comilla(s) inicial. \n",
    "- Dentro de la cadena, debe escribir la expresión (p. ej., variables o literales) a formatear entre llaves `{}`."
   ]
  },
  {
   "cell_type": "code",
   "execution_count": null,
   "metadata": {},
   "outputs": [],
   "source": [
    "\n",
    "print(f'El aniversario es el {dia} de {mes}.')"
   ]
  },
  {
   "source": [
    "El __método `str.format()`__,\n",
    "\n",
    "- Dentro de la cadena, escribir la expresión (e.g., variables o literales) a formatear entre llaves `{ }`.\n",
    "- Es posible, además, proporcionar [directivas de formato detalladas](https://docs.python.org/3/library/string.html#formatstrings) (p. ej., número de decimales, espacios).\n",
    "\n",
    "Por ejemplo, truncando el número de decimales de un flotante:"
   ],
   "cell_type": "markdown",
   "metadata": {}
  },
  {
   "cell_type": "code",
   "execution_count": null,
   "metadata": {},
   "outputs": [],
   "source": [
    "puntos = 18\n",
    "total = 33\n",
    "print('Respuestas correctas: {:.2%}'.format(puntos/total))"
   ]
  },
  {
   "cell_type": "markdown",
   "metadata": {},
   "source": [
    "## Comentarios en el código fuente\n",
    "Los comentarios son secciones del código ignoradas por el intérprete. \n",
    "\n",
    "- Son usados para documentar el código. \n",
    "- Cualquier texto que aparezca a la derecha del símbolo `#` corresponde a un comentario, excepto cuando el símbolo es incluido en una cadena de caracteres."
   ]
  },
  {
   "source": [
    "## Funciones integradas (_built-in functions_)\n",
    "\n",
    "- Una función es una secuencia denominada de instrucciones que realiza un cálculo. \n",
    "- Las funciones tienen un __nombre__ y reciben __parámetros__ (o argumentos) que van entre paréntesis `( )`. Además, entregan un resultado que se denomina __retorno__."
   ],
   "cell_type": "markdown",
   "metadata": {}
  },
  {
   "cell_type": "code",
   "execution_count": 1,
   "metadata": {},
   "outputs": [
    {
     "output_type": "execute_result",
     "data": {
      "text/plain": "int"
     },
     "metadata": {},
     "execution_count": 1
    }
   ],
   "source": [
    "type(25)"
   ]
  },
  {
   "source": [
    "El intérprete Python tiene una serie de [funciones y tipos incorporados](https://docs.python.org/3/library/functions.html) que permiten realizar algunas operaciones básicas."
   ],
   "cell_type": "markdown",
   "metadata": {}
  },
  {
   "cell_type": "markdown",
   "metadata": {},
   "source": [
    "## Verificación y depuración\n",
    "\n",
    "La __verificación__ consiste en ejecutar el programa utilizando un conjunto de datos de prueba, que permiten determinar si un programa contiene errores.\n",
    "\n",
    "La __depuración__ (_debugging_), es el proceso de encontrar y corregir errores en un programa.\n",
    "\n",
    "Cuando se ejecuta un programa se pueden producir 3 tipos de errores:\n",
    "\n",
    "1. Errores de sintaxis\n",
    "2. Errores en tiempo de ejecución o excepciones\n",
    "3. Errores de semántica"
   ]
  },
  {
   "cell_type": "markdown",
   "metadata": {},
   "source": [
    "### Errores de sintaxis\n",
    "\n",
    "Son errores que se producen por __uso incorrecto de las reglas del lenguaje de programación__. \n",
    "- Se notifican antes de que el programa comience a ejecutarse.\n",
    "- Típicamente se indica la ubicación del error después de que realmente ocurra.\n",
    "\n",
    "Por lo tanto, cuando se reporta un error de sintaxis debe revisarse desde donde se reporta el error hacia atrás."
   ]
  },
  {
   "cell_type": "code",
   "execution_count": 1,
   "metadata": {},
   "outputs": [
    {
     "output_type": "error",
     "ename": "SyntaxError",
     "evalue": "unexpected EOF while parsing (<ipython-input-1-dc5914a9849b>, line 1)",
     "traceback": [
      "\u001b[0;36m  File \u001b[0;32m\"<ipython-input-1-dc5914a9849b>\"\u001b[0;36m, line \u001b[0;32m1\u001b[0m\n\u001b[0;31m    5 / (2 ** 2\u001b[0m\n\u001b[0m               ^\u001b[0m\n\u001b[0;31mSyntaxError\u001b[0m\u001b[0;31m:\u001b[0m unexpected EOF while parsing\n"
     ]
    }
   ],
   "source": [
    "5 / (2 ** 2"
   ]
  },
  {
   "cell_type": "markdown",
   "metadata": {},
   "source": [
    "### Errores en tiempo de ejecución (_runtime error_)\n",
    "\n",
    "Los [errores en tiempo de ejecución](https://docs.python.org/3/library/exceptions.html#concrete-exceptions) son __producidos por instrucciones que son interpretadas por el ordenador pero que no se pueden ejecutar__ (p. ej., divisiones por cero, raíz cuadrada de números negativos). \n",
    "- Se detectan mientras el programa está en ejecución.\n",
    "- La ejecución se detiene y se muestra el mensaje de error.\n",
    "\n",
    "Un ejemplo, es el que se produce cuando se realiza una __división por cero__:"
   ]
  },
  {
   "cell_type": "code",
   "execution_count": 2,
   "metadata": {},
   "outputs": [
    {
     "output_type": "error",
     "ename": "ZeroDivisionError",
     "evalue": "division by zero",
     "traceback": [
      "\u001b[0;31m---------------------------------------------------------------------------\u001b[0m",
      "\u001b[0;31mZeroDivisionError\u001b[0m                         Traceback (most recent call last)",
      "\u001b[0;32m<ipython-input-2-adafc2937013>\u001b[0m in \u001b[0;36m<module>\u001b[0;34m\u001b[0m\n\u001b[0;32m----> 1\u001b[0;31m \u001b[0;36m5\u001b[0m \u001b[0;34m/\u001b[0m \u001b[0;36m0\u001b[0m\u001b[0;34m\u001b[0m\u001b[0;34m\u001b[0m\u001b[0m\n\u001b[0m",
      "\u001b[0;31mZeroDivisionError\u001b[0m: division by zero"
     ]
    }
   ],
   "source": [
    "5 / 0"
   ]
  },
  {
   "cell_type": "markdown",
   "metadata": {},
   "source": [
    "Un __error de nombre__ se genera cuando la primera operación se realiza sobre variables que no han sido asignadas:"
   ]
  },
  {
   "cell_type": "code",
   "execution_count": 3,
   "metadata": {},
   "outputs": [
    {
     "output_type": "error",
     "ename": "NameError",
     "evalue": "name 'a' is not defined",
     "traceback": [
      "\u001b[0;31m---------------------------------------------------------------------------\u001b[0m",
      "\u001b[0;31mNameError\u001b[0m                                 Traceback (most recent call last)",
      "\u001b[0;32m<ipython-input-3-ead3c2111b4d>\u001b[0m in \u001b[0;36m<module>\u001b[0;34m\u001b[0m\n\u001b[0;32m----> 1\u001b[0;31m \u001b[0ma\u001b[0m \u001b[0;34m+\u001b[0m \u001b[0;36m2\u001b[0m\u001b[0;34m\u001b[0m\u001b[0;34m\u001b[0m\u001b[0m\n\u001b[0m",
      "\u001b[0;31mNameError\u001b[0m: name 'a' is not defined"
     ]
    }
   ],
   "source": [
    "a + 2"
   ]
  },
  {
   "cell_type": "markdown",
   "metadata": {},
   "source": [
    "Un __error de tipo__, ocurre al aplicar una operación sobre operandos de tipos que no soportan dicha operación:"
   ]
  },
  {
   "cell_type": "code",
   "execution_count": 4,
   "metadata": {},
   "outputs": [
    {
     "output_type": "error",
     "ename": "TypeError",
     "evalue": "unsupported operand type(s) for +: 'int' and 'str'",
     "traceback": [
      "\u001b[0;31m---------------------------------------------------------------------------\u001b[0m",
      "\u001b[0;31mTypeError\u001b[0m                                 Traceback (most recent call last)",
      "\u001b[0;32m<ipython-input-4-f2c23ab0a5e1>\u001b[0m in \u001b[0;36m<module>\u001b[0;34m\u001b[0m\n\u001b[0;32m----> 1\u001b[0;31m \u001b[0;36m5\u001b[0m \u001b[0;34m+\u001b[0m \u001b[0;34m'a'\u001b[0m\u001b[0;34m\u001b[0m\u001b[0;34m\u001b[0m\u001b[0m\n\u001b[0m",
      "\u001b[0;31mTypeError\u001b[0m: unsupported operand type(s) for +: 'int' and 'str'"
     ]
    }
   ],
   "source": [
    "5 + 'a'"
   ]
  },
  {
   "cell_type": "markdown",
   "metadata": {},
   "source": [
    "El __error de valor__ ocurre cuando las operaciones no tienen sentido sobre los operandos y es indicado con la excepción:"
   ]
  },
  {
   "cell_type": "code",
   "execution_count": 5,
   "metadata": {},
   "outputs": [
    {
     "output_type": "error",
     "ename": "ValueError",
     "evalue": "invalid literal for int() with base 10: 'a'",
     "traceback": [
      "\u001b[0;31m---------------------------------------------------------------------------\u001b[0m",
      "\u001b[0;31mValueError\u001b[0m                                Traceback (most recent call last)",
      "\u001b[0;32m<ipython-input-5-233884bacd4e>\u001b[0m in \u001b[0;36m<module>\u001b[0;34m\u001b[0m\n\u001b[0;32m----> 1\u001b[0;31m \u001b[0mint\u001b[0m\u001b[0;34m(\u001b[0m\u001b[0;34m'a'\u001b[0m\u001b[0;34m)\u001b[0m\u001b[0;34m\u001b[0m\u001b[0;34m\u001b[0m\u001b[0m\n\u001b[0m",
      "\u001b[0;31mValueError\u001b[0m: invalid literal for int() with base 10: 'a'"
     ]
    }
   ],
   "source": [
    "int('a')"
   ]
  },
  {
   "cell_type": "markdown",
   "metadata": {},
   "source": [
    "### Errrores de semántica\n",
    "Se producen en la lógica del programa y __la fuente de los errores está en el diseño del algoritmo__. \n",
    "\n",
    "Para corregirlos se debe revisar la fase de diseño del algoritmo, modificar el algoritmo y volver a implementar en el código fuente."
   ]
  },
  {
   "source": [
    "## Actividades\n",
    "\n",
    "1. Describir el uso de las siguientes funciones. Complemente la descripción agregando ejemplos.\n",
    "    - help()\n",
    "    - eval()\n",
    "    - min()\n",
    "    - max()\n",
    "    - sum()\n",
    "    - pow()\n",
    "    - chr()\n",
    "    - round()\n",
    "    - abs()\n",
    "\n",
    "1. Describir las siguientes excepciones y presentar un ejemplo (con su contexto) para cada una.\n",
    "    - IndexError\n",
    "    - OverflowError\n",
    "    - TabError\n"
   ],
   "cell_type": "markdown",
   "metadata": {}
  }
 ],
 "metadata": {
  "language_info": {
   "codemirror_mode": {
    "name": "ipython",
    "version": 3
   },
   "file_extension": ".py",
   "mimetype": "text/x-python",
   "name": "python",
   "nbconvert_exporter": "python",
   "pygments_lexer": "ipython3",
   "version": "3.7.6-final"
  },
  "orig_nbformat": 2,
  "kernelspec": {
   "name": "python3",
   "display_name": "Python 3"
  }
 },
 "nbformat": 4,
 "nbformat_minor": 2
}
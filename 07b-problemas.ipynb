{
 "metadata": {
  "language_info": {
   "codemirror_mode": {
    "name": "ipython",
    "version": 3
   },
   "file_extension": ".py",
   "mimetype": "text/x-python",
   "name": "python",
   "nbconvert_exporter": "python",
   "pygments_lexer": "ipython3",
   "version": 3
  },
  "orig_nbformat": 2
 },
 "nbformat": 4,
 "nbformat_minor": 2,
 "cells": [
  {
   "source": [
    "# Problema\n",
    "\n",
    "El telégrafo es un dispositivo que utiliza señales eléctricas para la transmisión de mensajes mediante líneas alámbricas o radiales. El costo de enviar un mensaje varía en función del contenido del mensaje. Así, cada letra cuesta \\$5, los caracteres especiales que no son letras tiene un costo de \\$12, los dígitos tienen un valor de \\$8, y los espacios no tienen costo. Las palabras con tildes y la ñ, también cuentan como caracteres especiales.\n",
    "\n",
    "Diseñar un programa, que a partir de un mensaje, permita calcular el costo de enviarlo por telégrafo. Por ejemplo,\n",
    "\n",
    "```\n",
    "Escriba el mensaje: \n",
    "Lorem Ipsum es simplemente el texto de relleno de las imprentas \n",
    "y archivos de texto. Lorem Ipsum ha sido el texto de relleno \n",
    "estándar de las industrias desde el año 1500, cuando un impresor \n",
    "(N. del T. persona que se dedica a la imprenta) desconocido usó \n",
    "una galería de textos y los mezcló de tal manera que logró hacer \n",
    "un libro de textos especimen.\n",
    "\n",
    "Su mensaje cuesta $1528\n",
    "```\n"
   ],
   "cell_type": "markdown",
   "metadata": {}
  },
  {
   "cell_type": "code",
   "execution_count": null,
   "metadata": {},
   "outputs": [],
   "source": []
  }
 ]
}
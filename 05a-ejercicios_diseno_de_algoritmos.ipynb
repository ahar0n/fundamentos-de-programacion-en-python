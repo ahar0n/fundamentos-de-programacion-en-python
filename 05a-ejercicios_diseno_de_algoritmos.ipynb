{
 "cells": [
  {
   "cell_type": "markdown",
   "metadata": {},
   "source": [
    "# Ejercicios: diseño de algoritmos con flujo normal\n",
    "\n",
    "Para cada uno de los siguientes problemas, presentar:\n",
    "\n",
    "1. Especificación de entradas y salidas\n",
    "2. Procesos\n",
    "3. Representación del algoritmo\n",
    "4. Script"
   ]
  },
  {
   "cell_type": "markdown",
   "metadata": {},
   "source": [
    "E1. Diseñar un programa que muestre la parte decimal de un número ingresado por el usuario. \n",
    "\n",
    "Por ejemplo:\n",
    "\n",
    "```\n",
    "Ingrese número real: 2.762\n",
    "La parte decimal es 762\n",
    "```"
   ]
  },
  {
   "source": [
    "E2. Diseñar un programa que que convierta grados sexagesimales a grados centesimales. El resultado deberá mostrarse con una precisión de 4 decimales.\n",
    "\n",
    "Por ejemplo:\n",
    "```\n",
    "Ingrese los grados: 95\n",
    "Ingrese los minutos: 55\n",
    "Ingrese los segundos: 23\n",
    "En grados centesimales es 106.5812\n",
    "```"
   ],
   "cell_type": "markdown",
   "metadata": {}
  },
  {
   "cell_type": "markdown",
   "metadata": {},
   "source": [
    "E3. En topografía, la precisión lineal planimétrica puede ser expresada por la relación $1 : x^{-1}$, donde $x$ es un número entero correspondiente al ratio entre el error $(\\varepsilon)$ de la poligonal y su longitud $(P)$. Este valor es obtenido a partir de:\n",
    "\n",
    "\\begin{equation}\n",
    "    x = \\frac{\\varepsilon}{P}\n",
    "\\end{equation}\n",
    "\n",
    "Diseñe un programa que, a partir de la longitud (en metros) de la poligonal y el error (en centímetros), muestre la precisión alcanzada.\n",
    "\n",
    "Por ejemplo,\n",
    "\n",
    "```\n",
    "Ingrese la longitud de la poligonal (m): 4456.654 \n",
    "Ingrese el error (cm): 12.2\n",
    "La precision planimetrica es 1:36530\n",
    "```"
   ]
  },
  {
   "source": [
    "E4. Las [Estaciones Totales](https://en.wikipedia.org/wiki/Total_station) miden distancias por medio de un distanciómetro, el cual determina la distancia a partir del principio denominado Medición Electrónica de Distancia (EDM). El principio de la EDM consiste en determinar una distancia a partir de la observación de una señal electromagnética emitida por el distanciómetros hacia un elemento reflectante denominado prisma. Considerando que la señal sufre perturbaciones debido al medio donde se propaga, la distancia medida debe ser corregida para obtener la distancia real. Por lo tanto, la distancia real $(D)$ en metros es obtenida por medio de:\n",
    "\n",
    "\\begin{equation}\n",
    "    d = l(1+K_a),\n",
    "\\end{equation}\n",
    "\n",
    "donde, $ l $ es la distancia bruta observada por el distanciómetro y $K_a$ es la corrección atmosférica expresada en [partes por millón (ppm)](https://es.wikipedia.org/wiki/Partes_por_millón):\n",
    "\n",
    "\\begin{equation}\n",
    "    K_a = \\left( 279.66 - \\frac{79.531P}{273.15+t} \\right) 10^{-6},\n",
    "\\end{equation}\n",
    "\n",
    "\n",
    "donde, $t$ es la temperatura expresada en grados celsius y $P$ es la presión atmosférica expresada en [hPa](https://en.wikipedia.org/wiki/Pascal_(unit)).\n",
    "\n",
    "Diseñar un programa que entregue al usuario la corrección atmosférica en ppm y la distancia real medida por un distanciómetro. El programa debe solicitar al usuario la distancia bruta observada por el distanciómetro (en metros), la temperatura en grados celsius y la presión atmosférica en [milímetros de mercurio mmHg](https://en.wikipedia.org/wiki/Millimeter_of_mercury). Por ejemplo,\n",
    "\n",
    "```\n",
    "Ingrese la distancia observada (metros): 896.121 \n",
    "Ingrese la temperatura (grados celsius): 25\n",
    "Ingrese la presion atmosferica (en mmHg): 778\n",
    "La distancia real es 896.148 metros\n",
    "```"
   ],
   "cell_type": "markdown",
   "metadata": {}
  }
 ],
 "metadata": {
  "kernelspec": {
   "display_name": "Python 3",
   "language": "python",
   "name": "python3"
  },
  "language_info": {
   "codemirror_mode": {
    "name": "ipython",
    "version": 3
   },
   "file_extension": ".py",
   "mimetype": "text/x-python",
   "name": "python",
   "nbconvert_exporter": "python",
   "pygments_lexer": "ipython3",
   "version": "3.7.6-final"
  }
 },
 "nbformat": 4,
 "nbformat_minor": 2
}
{
 "cells": [
  {
   "cell_type": "markdown",
   "metadata": {},
   "source": [
    "# Diccionarios\n",
    "\n",
    "### Contenidos\n",
    "1. Descripción\n",
    "1. Construcción de diccionarios\n",
    "1. Operaciones básicas con diccionarios\n",
    "1. Iterar sobre los elementos de un diccionario"
   ]
  },
  {
   "cell_type": "markdown",
   "metadata": {},
   "source": [
    "## Descripción\n",
    "\n",
    "- Un diccionario __es una colección no-ordenada de valores__ o, un conjunto no ordenado de pares ```clave: valor```.\n",
    "- En otros lenguajes, existen estruccturas similares: e.g. _arreglos asociativos_ en PHP.\n",
    "- __Los valores se indexan mediante claves__, que pueden ser cualquier tipo inmutable: cadenas y números. \n",
    "- Las __tuplas pueden usarse como claves__ si contienen cadenas, números, tuplas, ~~listas~~.\n",
    "- Las __claves son únicas dentro de un diccionario__.\n",
    "- __No se permite acceder de forma directa a una clave a través de su valor__.\n",
    "- Un mismo valor puede ser asignado a distintas claves."
   ]
  },
  {
   "cell_type": "markdown",
   "metadata": {},
   "source": [
    "## Construcción de diccionarios\n",
    "\n",
    "El constructor ```dict()``` crea un diccionario directamente a partir de una secuencias de pares ```clave: valor```, separados por coma ```,```:"
   ]
  },
  {
   "cell_type": "code",
   "execution_count": 1,
   "metadata": {},
   "outputs": [
    {
     "data": {
      "text/plain": [
       "{457000: 'Ingles I', 457235: 'Fisica I', 457105: 'Cálculo III'}"
      ]
     },
     "execution_count": 1,
     "metadata": {},
     "output_type": "execute_result"
    }
   ],
   "source": [
    "dict([(457000, 'Ingles I'), (457235, 'Fisica I'), (457105, 'Cálculo III')])"
   ]
  },
  {
   "cell_type": "markdown",
   "metadata": {},
   "source": [
    "Otra forma de instanciar un diccionario es agregando entre llaves ```{}``` sus elementos:"
   ]
  },
  {
   "cell_type": "code",
   "execution_count": 2,
   "metadata": {},
   "outputs": [
    {
     "data": {
      "text/plain": [
       "{457000: 'Ingles I', 457235: 'Fisica I', 457105: 'Cálculo III'}"
      ]
     },
     "execution_count": 2,
     "metadata": {},
     "output_type": "execute_result"
    }
   ],
   "source": [
    "{457000: 'Ingles I', 457235: 'Fisica I', 457105: 'Cálculo III'}"
   ]
  },
  {
   "cell_type": "markdown",
   "metadata": {},
   "source": [
    "En los casos que las claves sean cadenas simples, es posible especificar los pares usando argumentos por palabra clave:"
   ]
  },
  {
   "cell_type": "code",
   "execution_count": 3,
   "metadata": {},
   "outputs": [
    {
     "data": {
      "text/plain": [
       "{'Elisa': 40, 'Javiera': 26, 'Marcela': 21}"
      ]
     },
     "execution_count": 3,
     "metadata": {},
     "output_type": "execute_result"
    }
   ],
   "source": [
    "dict(Elisa=40, Javiera=26, Marcela=21)"
   ]
  },
  {
   "cell_type": "markdown",
   "metadata": {},
   "source": [
    "Para crear un diccionario vacío, se hace por medio de un par de llaves ```{}``` sin argumento:"
   ]
  },
  {
   "cell_type": "code",
   "execution_count": 4,
   "metadata": {},
   "outputs": [],
   "source": [
    "asignaturas = {}"
   ]
  },
  {
   "cell_type": "code",
   "execution_count": 5,
   "metadata": {},
   "outputs": [
    {
     "name": "stdout",
     "output_type": "stream",
     "text": [
      "{}\n"
     ]
    }
   ],
   "source": [
    "print(asignaturas)"
   ]
  },
  {
   "cell_type": "markdown",
   "metadata": {},
   "source": [
    "## Operaciones básicas con diccionarios"
   ]
  },
  {
   "cell_type": "markdown",
   "metadata": {},
   "source": [
    "Para __agregar elementos__ a un diccionario existente, se realiza la __asignación a un índice deseado__ entre corchetes ```[]```:"
   ]
  },
  {
   "cell_type": "code",
   "execution_count": 6,
   "metadata": {},
   "outputs": [
    {
     "name": "stdout",
     "output_type": "stream",
     "text": [
      "{457000: 'Ingles III', 457235: 'Física I', 457105: 'Cálculo III'}\n"
     ]
    }
   ],
   "source": [
    "asignaturas[457000] = 'Ingles III'\n",
    "asignaturas[457235] = 'Física I'\n",
    "asignaturas[457105] = 'Cálculo III'\n",
    "print(asignaturas)"
   ]
  },
  {
   "cell_type": "markdown",
   "metadata": {},
   "source": [
    "Si se usa una clave que __ya está en uso para almacenar un valor__, el valor que estaba asociado con esa clave __se sobreescribe__:"
   ]
  },
  {
   "cell_type": "code",
   "execution_count": 7,
   "metadata": {},
   "outputs": [
    {
     "name": "stdout",
     "output_type": "stream",
     "text": [
      "{457000: 'Ingles I', 457235: 'Física I', 457105: 'Cálculo III'}\n"
     ]
    }
   ],
   "source": [
    "asignaturas[457000] = 'Ingles I'\n",
    "print(asignaturas)"
   ]
  },
  {
   "cell_type": "markdown",
   "metadata": {},
   "source": [
    "De forma análoga, para __extraer un elemento__ debe ser consultado por medio del índice:"
   ]
  },
  {
   "cell_type": "code",
   "execution_count": 8,
   "metadata": {
    "scrolled": true
   },
   "outputs": [
    {
     "name": "stdout",
     "output_type": "stream",
     "text": [
      "Cálculo III\n"
     ]
    }
   ],
   "source": [
    "print(asignaturas[457105])"
   ]
  },
  {
   "cell_type": "markdown",
   "metadata": {},
   "source": [
    "Es importante considerar que, es un error de tipo ```KeyError``` __extraer un valor usando una clave no existente__:"
   ]
  },
  {
   "cell_type": "code",
   "execution_count": 9,
   "metadata": {},
   "outputs": [
    {
     "ename": "KeyError",
     "evalue": "457101",
     "output_type": "error",
     "traceback": [
      "\u001b[0;31m---------------------------------------------------------------------------\u001b[0m",
      "\u001b[0;31mKeyError\u001b[0m                                  Traceback (most recent call last)",
      "\u001b[0;32m<ipython-input-9-c0ab344d1f9c>\u001b[0m in \u001b[0;36m<module>\u001b[0;34m()\u001b[0m\n\u001b[0;32m----> 1\u001b[0;31m \u001b[0mprint\u001b[0m\u001b[0;34m(\u001b[0m\u001b[0masignaturas\u001b[0m\u001b[0;34m[\u001b[0m\u001b[0;36m457101\u001b[0m\u001b[0;34m]\u001b[0m\u001b[0;34m)\u001b[0m\u001b[0;34m\u001b[0m\u001b[0m\n\u001b[0m",
      "\u001b[0;31mKeyError\u001b[0m: 457101"
     ]
    }
   ],
   "source": [
    "print(asignaturas[457101])"
   ]
  },
  {
   "cell_type": "markdown",
   "metadata": {},
   "source": [
    "De forma análoga que para las listas, la función ```len()``` retorna la __cantidad de elementos__ de un diccionario:"
   ]
  },
  {
   "cell_type": "code",
   "execution_count": null,
   "metadata": {},
   "outputs": [],
   "source": [
    "len(asignaturas)"
   ]
  },
  {
   "cell_type": "markdown",
   "metadata": {},
   "source": [
    "Por medio de la instrucción ```del```, es posible __eliminar elementos__ de un diccionario."
   ]
  },
  {
   "cell_type": "code",
   "execution_count": null,
   "metadata": {},
   "outputs": [],
   "source": [
    "del asignaturas[457000]\n",
    "print(asignaturas)"
   ]
  },
  {
   "cell_type": "markdown",
   "metadata": {},
   "source": [
    "Considerando que las operaciones básicas con diccionarios requieren del conocimiento de la clave, para __controlar la existencia de una clave__ se realiza con el operador ```in```.\n",
    "\n",
    "El siguiente ejemplo, es un programa que permite ingresar asignaturas almacenadas en un diccionario:"
   ]
  },
  {
   "cell_type": "code",
   "execution_count": 10,
   "metadata": {},
   "outputs": [
    {
     "data": {
      "text/plain": [
       "{457000: 'Ingles I', 457235: 'Física I', 457105: 'Cálculo III'}"
      ]
     },
     "execution_count": 10,
     "metadata": {},
     "output_type": "execute_result"
    }
   ],
   "source": [
    "asignaturas"
   ]
  },
  {
   "cell_type": "code",
   "execution_count": 11,
   "metadata": {
    "scrolled": true
   },
   "outputs": [
    {
     "name": "stdout",
     "output_type": "stream",
     "text": [
      "Código: 457000\n",
      "Nombre: Inglés II\n",
      "El código ya existe!\n",
      "Ingrese otro código.\n",
      "Código: 457001\n",
      "Nombre: Inglés II\n",
      "Ingreso exitoso!\n",
      "Ingrese otra asignatura.\n",
      "Código: \n",
      "{457000: 'Ingles I', 457235: 'Física I', 457105: 'Cálculo III', 457001: 'Inglés II'}\n"
     ]
    }
   ],
   "source": [
    "def registra_asignatura(asignaturas, codigo, nombre):\n",
    "    if codigo not in asignaturas:\n",
    "        asignaturas[codigo] = nombre\n",
    "        print('Ingreso exitoso!')\n",
    "        return True\n",
    "    else:\n",
    "        print('El código ya existe!')\n",
    "        return False\n",
    "\n",
    "def codigo_valido(codigo):\n",
    "    try:\n",
    "        codigo = int(codigo)\n",
    "        return True\n",
    "    except ValueError:\n",
    "        print('Error: Código inválido!')\n",
    "        return False\n",
    "    \n",
    "while True:\n",
    "    codigo = input('Código: ')\n",
    "    if codigo == '':\n",
    "        break\n",
    "    else:\n",
    "        if codigo_valido(codigo):\n",
    "            nombre = input('Nombre: ')\n",
    "            if not registra_asignatura(asignaturas, int(codigo), nombre):\n",
    "                print('Ingrese otro código.')\n",
    "                continue\n",
    "            else:\n",
    "                print('Ingrese otra asignatura.')\n",
    "        else:\n",
    "            print('Ingrese el código nuevamente.')\n",
    "print(asignaturas)"
   ]
  },
  {
   "cell_type": "markdown",
   "metadata": {},
   "source": [
    "El método ```keys()```, __retorna todas las claves de un diccionario__. Por ejemplo, la siguiente expresión, retorna una lista con las claves del diccionario ```asignatura```:"
   ]
  },
  {
   "cell_type": "code",
   "execution_count": 12,
   "metadata": {},
   "outputs": [
    {
     "data": {
      "text/plain": [
       "[457000, 457235, 457105, 457001]"
      ]
     },
     "execution_count": 12,
     "metadata": {},
     "output_type": "execute_result"
    }
   ],
   "source": [
    "list(asignaturas.keys())"
   ]
  },
  {
   "cell_type": "markdown",
   "metadata": {},
   "source": [
    "El método ```values()``` __obtiene los valores de un diccionario__:"
   ]
  },
  {
   "cell_type": "code",
   "execution_count": 13,
   "metadata": {},
   "outputs": [
    {
     "data": {
      "text/plain": [
       "['Ingles I', 'Física I', 'Cálculo III', 'Inglés II']"
      ]
     },
     "execution_count": 13,
     "metadata": {},
     "output_type": "execute_result"
    }
   ],
   "source": [
    "list(asignaturas.values())"
   ]
  },
  {
   "cell_type": "markdown",
   "metadata": {},
   "source": [
    "La función ```copy()``` realiza la __copia de un diccionario__:"
   ]
  },
  {
   "cell_type": "code",
   "execution_count": 14,
   "metadata": {},
   "outputs": [
    {
     "name": "stdout",
     "output_type": "stream",
     "text": [
      "{457000: 'Ingles I', 457235: 'Física I', 457105: 'Cálculo III', 457001: 'Inglés II'}\n"
     ]
    }
   ],
   "source": [
    "asignaturas_2 = asignaturas.copy()\n",
    "print(asignaturas_2)"
   ]
  },
  {
   "cell_type": "markdown",
   "metadata": {},
   "source": [
    "La función ```clear()``` __elimina todos los elementos de un diccionario__."
   ]
  },
  {
   "cell_type": "code",
   "execution_count": 15,
   "metadata": {
    "scrolled": true
   },
   "outputs": [
    {
     "name": "stdout",
     "output_type": "stream",
     "text": [
      "{}\n"
     ]
    }
   ],
   "source": [
    "asignaturas_2.clear()\n",
    "print(asignaturas_2)"
   ]
  },
  {
   "cell_type": "code",
   "execution_count": 16,
   "metadata": {},
   "outputs": [
    {
     "name": "stdout",
     "output_type": "stream",
     "text": [
      "{457000: 'Ingles I', 457235: 'Física I', 457105: 'Cálculo III', 457001: 'Inglés II'}\n"
     ]
    }
   ],
   "source": [
    "asignaturas_3 = asignaturas\n",
    "print(asignaturas_3)"
   ]
  },
  {
   "cell_type": "code",
   "execution_count": 17,
   "metadata": {},
   "outputs": [
    {
     "name": "stdout",
     "output_type": "stream",
     "text": [
      "{}\n",
      "{}\n"
     ]
    }
   ],
   "source": [
    "asignaturas_3.clear()\n",
    "print(asignaturas_3)\n",
    "print(asignaturas)"
   ]
  },
  {
   "cell_type": "markdown",
   "metadata": {},
   "source": [
    "El método ```update()``` __concatena diccionarios__:"
   ]
  },
  {
   "cell_type": "code",
   "execution_count": 19,
   "metadata": {
    "scrolled": true
   },
   "outputs": [
    {
     "name": "stdout",
     "output_type": "stream",
     "text": [
      "{'nombre': 'Pepito', 'apellido': 'Jara', 'edad': 26, 'nacionalidad': 'chilena'}\n",
      "{'edad': 26, 'nacionalidad': 'chilena', 'nombre': 'Pepito'}\n"
     ]
    }
   ],
   "source": [
    "dict1 = {'nombre': 'Juan', 'apellido': 'Jara'}\n",
    "dict2 = {'edad': 26, 'nacionalidad': 'chilena', 'nombre': 'Pepito'}\n",
    "dict1.update(dict2)\n",
    "print(dict1)\n",
    "print(dict2)"
   ]
  },
  {
   "cell_type": "markdown",
   "metadata": {},
   "source": [
    "## Iterar sobre los elementos de un diccionario\n",
    "\n",
    "Iterar __a través de las claves__:"
   ]
  },
  {
   "cell_type": "code",
   "execution_count": 20,
   "metadata": {
    "scrolled": false
   },
   "outputs": [
    {
     "name": "stdout",
     "output_type": "stream",
     "text": [
      "nombre : Pepito\n",
      "apellido : Jara\n",
      "edad : 26\n",
      "nacionalidad : chilena\n"
     ]
    }
   ],
   "source": [
    "for codigo in dict1:\n",
    "    print('{} : {}'.format(codigo, dict1[codigo]))"
   ]
  },
  {
   "cell_type": "markdown",
   "metadata": {},
   "source": [
    "Iterar __a través de las claves y obtener los valores como tuplas__, utilizando el método ```items()```:"
   ]
  },
  {
   "cell_type": "code",
   "execution_count": 21,
   "metadata": {},
   "outputs": [
    {
     "name": "stdout",
     "output_type": "stream",
     "text": [
      "nombre : Pepito\n",
      "apellido : Jara\n",
      "edad : 26\n",
      "nacionalidad : chilena\n"
     ]
    }
   ],
   "source": [
    "for (clave, valor) in dict1.items():\n",
    "    print('{} : {}'.format(clave, valor))"
   ]
  },
  {
   "cell_type": "markdown",
   "metadata": {},
   "source": [
    "## Actividades\n",
    "\n",
    "A1. El programa que permite agregar nuevas asignaturas:\n",
    "- En aquellos casos en los cuales se intenta ingresar una asignatura cuyo código existe, éste impide su ingreso. Agregar una nueva funcionalidad que, al intentar la misma acción, se registre la asignatura con un nuevo código que se genere automaticamente.\n",
    "- Notar que los códigos de las asignatura poseen 6 dígitos. En consecuencia, agregar esta validación al programa.\n",
    "\n",
    "A2. Diseñar la función `cuenta_caracter(texto)` que recibe como argumento un texto y retorna un diccionario. Cada clave del diccionario corresponde a cada caracter encontrado en el texto, mientras que cada valor contiene la ocurrencia del carater en el texto. En el caso de la ocurrencia de letras, éstas deben estar asociadas mayúsculas y minúsculas; los espacios deben ser omitidos. Por ejemplo,\n",
    "\n",
    "```\n",
    ">>> cuenta_caracter('Hola, holA, hola !')\n",
    "{'h': 3, 'o': 3, 'l': 3, 'a': 3, ',': 2, '!': 1}\n",
    "```\n"
   ]
  }
 ],
 "metadata": {
  "kernelspec": {
   "display_name": "Python 3",
   "language": "python",
   "name": "python3"
  },
  "language_info": {
   "codemirror_mode": {
    "name": "ipython",
    "version": 3
   },
   "file_extension": ".py",
   "mimetype": "text/x-python",
   "name": "python",
   "nbconvert_exporter": "python",
   "pygments_lexer": "ipython3",
   "version": "3.7.3"
  }
 },
 "nbformat": 4,
 "nbformat_minor": 2
}
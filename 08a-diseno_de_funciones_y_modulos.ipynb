{
 "metadata": {
  "language_info": {
   "codemirror_mode": {
    "name": "ipython",
    "version": 3
   },
   "file_extension": ".py",
   "mimetype": "text/x-python",
   "name": "python",
   "nbconvert_exporter": "python",
   "pygments_lexer": "ipython3",
   "version": 3
  },
  "orig_nbformat": 2
 },
 "nbformat": 4,
 "nbformat_minor": 2,
 "cells": [
  {
   "source": [
    "# Ejercicios: diseño de funciones y módulos"
   ],
   "cell_type": "markdown",
   "metadata": {}
  },
  {
   "source": [
    "E1. En el espacio euclidiano tridimensional, un vector puede ser representado a partir de sus componentes ($x,y,z$), cuyos valores son números reales.\n",
    "\n",
    "Para dos vectores $a=(x_1,y_1,z_1)$ y $b = (x_2,y_2,z_2)$, se definen las siguientes operaciones:\n",
    "\n",
    "- La suma de vectores:\n",
    "\\begin{equation}\n",
    "a \\pm b = \\left( x_1 \\pm x_2, y_1 \\pm y_2, z_1 \\pm z_2 \\right)\n",
    "\\end{equation}\n",
    "    \n",
    "- El producto escalar:\n",
    "\\begin{equation}\n",
    "a \\cdot b = \\sum a_i \\cdot b_i\n",
    "\\end{equation}\n",
    "\n",
    "- El producto vectorial:\n",
    "\\begin{equation}\n",
    "a \\times b = (y_1z_2 - z_1y_2, z_1x_2 - x_1z_2, x_1y_2 - y_1x_2)\n",
    "\\end{equation}\n",
    "\n",
    "- La distancia euclidiana:\n",
    "\\begin{equation}\n",
    "d_{ab} = \\sqrt{\\Delta x^2 + \\Delta y^2 + \\Delta z^2}\n",
    "\\end{equation}\n",
    "\n",
    "Diseñar un modulo en Python que incluya una función para cada una de las operaciones antes definidas. Además, debe incluir: \n",
    "- Las posibles excepciones, por ejemplo, divisiones por cero, raíces con argumento negativo, etc.\n",
    "- Documentación.\n",
    "- Verificación y test."
   ],
   "cell_type": "markdown",
   "metadata": {}
  },
  {
   "cell_type": "code",
   "execution_count": null,
   "metadata": {},
   "outputs": [],
   "source": []
  }
 ]
}
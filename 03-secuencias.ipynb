{
 "cells": [
  {
   "cell_type": "markdown",
   "metadata": {},
   "source": [
    "# Secuencias\n",
    "\n",
    "### Contenidos\n",
    "\n",
    "- Cadena de caracteres\n",
    "- Tuplas\n",
    "- Listas\n",
    "- Operadores de secuencias\n",
    "- Longitud e índices\n",
    "- Segmentación de secuencias\n",
    "- Mutación"
   ]
  },
  {
   "cell_type": "markdown",
   "metadata": {},
   "source": [
    "Las secuencias en Python son __estructuras de datos que representan conjuntos finitos ordenados e indexados__."
   ]
  },
  {
   "cell_type": "markdown",
   "metadata": {},
   "source": [
    "### Cadenas (```str```)\n",
    "- Es una secuencia <a href=\"https://en.wikibooks.org/wiki/Python_Programming/Data_Types#Mutable_vs_Immutable_Objects\">inmutable</a> de uno o más caracteres (letras, números, símbolos). \n",
    "- Pueden ser representados por medio de comillas simples o dobles."
   ]
  },
  {
   "cell_type": "code",
   "execution_count": 1,
   "metadata": {},
   "outputs": [
    {
     "output_type": "execute_result",
     "data": {
      "text/plain": "str"
     },
     "metadata": {},
     "execution_count": 1
    }
   ],
   "source": [
    "type('Esto es una cadena de texto entre comillas simples!')"
   ]
  },
  {
   "cell_type": "code",
   "execution_count": 2,
   "metadata": {},
   "outputs": [
    {
     "output_type": "execute_result",
     "data": {
      "text/plain": "str"
     },
     "metadata": {},
     "execution_count": 2
    }
   ],
   "source": [
    "type(\"Esto es una cadena de texto entre comillas dobles!\")"
   ]
  },
  {
   "cell_type": "markdown",
   "metadata": {},
   "source": [
    "Las cadenas de texto no son lo mismo que los valores representan. Además difieren de mayúsculas y minúsculas o en espacios:"
   ]
  },
  {
   "cell_type": "code",
   "execution_count": 3,
   "metadata": {},
   "outputs": [
    {
     "output_type": "execute_result",
     "data": {
      "text/plain": "False"
     },
     "metadata": {},
     "execution_count": 3
    }
   ],
   "source": [
    "1 == '1'"
   ]
  },
  {
   "cell_type": "code",
   "execution_count": 4,
   "metadata": {},
   "outputs": [
    {
     "output_type": "execute_result",
     "data": {
      "text/plain": "False"
     },
     "metadata": {},
     "execution_count": 4
    }
   ],
   "source": [
    "'casa' == 'Casa'"
   ]
  },
  {
   "cell_type": "markdown",
   "metadata": {},
   "source": [
    "### Tuplas (```tuple```)\n",
    "- Es una secuencia ordenada, e [inmutable](https://en.wikibooks.org/wiki/Python_Programming/Data_Types#Mutable_vs_Immutable_Objects), de elementos. \n",
    "- Funcionalmente, son utilizada para representar heterogéneas secuencias de elementos (p. ej., fecha, dirección). \n",
    "- Sintácticamente, para crear una tupla los elementos se escriben como una secuencia separada por comas."
   ]
  },
  {
   "cell_type": "code",
   "execution_count": 5,
   "metadata": {},
   "outputs": [],
   "source": [
    "aniversario = ('Dic', 25, 1983)"
   ]
  },
  {
   "cell_type": "code",
   "execution_count": 6,
   "metadata": {},
   "outputs": [
    {
     "output_type": "execute_result",
     "data": {
      "text/plain": "tuple"
     },
     "metadata": {},
     "execution_count": 6
    }
   ],
   "source": [
    "type(aniversario)"
   ]
  },
  {
   "cell_type": "markdown",
   "metadata": {},
   "source": [
    "Opcionalmente, la secuencia puede ser escrita entre paréntesis `()`. Las tuplas soportan datos de distintos tipos."
   ]
  },
  {
   "cell_type": "code",
   "execution_count": 7,
   "metadata": {},
   "outputs": [
    {
     "output_type": "execute_result",
     "data": {
      "text/plain": "('a', 'b', 'c', 'd')"
     },
     "metadata": {},
     "execution_count": 7
    }
   ],
   "source": [
    "'a', 'b', 'c', 'd'"
   ]
  },
  {
   "cell_type": "markdown",
   "metadata": {},
   "source": [
    "En general, el acceso a los elementos de una tupla se hace por medio del desempaquetado (_unpacking_) de una tupla. Para una tupla de `k` elementos, `k` variables puedes ser asignadas a cada uno de dichos elementos."
   ]
  },
  {
   "cell_type": "code",
   "execution_count": 8,
   "metadata": {},
   "outputs": [],
   "source": [
    "mm, dd, yy = aniversario"
   ]
  },
  {
   "cell_type": "code",
   "execution_count": 9,
   "metadata": {
    "tags": []
   },
   "outputs": [
    {
     "output_type": "stream",
     "name": "stdout",
     "text": "1983\n"
    }
   ],
   "source": [
    "print(yy)"
   ]
  },
  {
   "cell_type": "markdown",
   "metadata": {},
   "source": [
    "### Listas (```list```)\n",
    "\n",
    "- Es una secuencia [mutable](https://en.wikibooks.org/wiki/Python_Programming/Data_Types#Mutable_vs_Immutable_Objects) (o cambiable) ordenada de valores, que puede contener constantes o variables. \n",
    "- Cada valor que se encuentra dentro de una lista se denomina elemento y se definen  entre corchetes `[]`, donde los elementos son separados por una coma."
   ]
  },
  {
   "cell_type": "code",
   "execution_count": 10,
   "metadata": {},
   "outputs": [
    {
     "output_type": "execute_result",
     "data": {
      "text/plain": "[1, 2.1, 0.9764, -4, 5]"
     },
     "metadata": {},
     "execution_count": 10
    }
   ],
   "source": [
    "[1, 2.1, 0.9764, -4, 5]"
   ]
  },
  {
   "cell_type": "code",
   "execution_count": 11,
   "metadata": {},
   "outputs": [],
   "source": [
    "fruta = ['manzana', 'platano', 'naranja', 'pomelo']"
   ]
  },
  {
   "cell_type": "code",
   "execution_count": 12,
   "metadata": {},
   "outputs": [
    {
     "output_type": "execute_result",
     "data": {
      "text/plain": "list"
     },
     "metadata": {},
     "execution_count": 12
    }
   ],
   "source": [
    "type(fruta)"
   ]
  },
  {
   "cell_type": "markdown",
   "metadata": {},
   "source": [
    "### Operadores de secuencias\n",
    "\n",
    "- Los operadores de secuencias permite realizar algunas operaciones entre secuencias. Algunos operadores básicos:"
   ]
  },
  {
   "cell_type": "markdown",
   "metadata": {},
   "source": [
    "| Operación | Símbolo |\n",
    "| :--       | :--:|\n",
    "| Anidar    | + |\n",
    "| Repetir   |  ∗ |\n",
    "| Pertenencia  | in |"
   ]
  },
  {
   "cell_type": "markdown",
   "metadata": {},
   "source": [
    "La operación anidar `+` permite __concatenar secuencias__:"
   ]
  },
  {
   "cell_type": "code",
   "execution_count": 13,
   "metadata": {},
   "outputs": [
    {
     "output_type": "execute_result",
     "data": {
      "text/plain": "['manzana', 'repollo', 'zapallo']"
     },
     "metadata": {},
     "execution_count": 13
    }
   ],
   "source": [
    "['manzana'] + ['repollo', 'zapallo']"
   ]
  },
  {
   "cell_type": "code",
   "execution_count": 14,
   "metadata": {},
   "outputs": [
    {
     "output_type": "execute_result",
     "data": {
      "text/plain": "'radiotaxi'"
     },
     "metadata": {},
     "execution_count": 14
    }
   ],
   "source": [
    "'radio' + 'taxi'"
   ]
  },
  {
   "cell_type": "markdown",
   "metadata": {},
   "source": [
    "La operación repetir `*` __permite concatenar copias de la misma secuencias__:"
   ]
  },
  {
   "cell_type": "code",
   "execution_count": 15,
   "metadata": {},
   "outputs": [
    {
     "output_type": "execute_result",
     "data": {
      "text/plain": "['manzana', 'manzana', 'manzana']"
     },
     "metadata": {},
     "execution_count": 15
    }
   ],
   "source": [
    "['manzana'] * 3"
   ]
  },
  {
   "cell_type": "markdown",
   "metadata": {},
   "source": [
    "Notar que el tipo de dato derivado de una operación de secuencia, es del mismo tipo de la secuencia que se está operando:"
   ]
  },
  {
   "cell_type": "code",
   "execution_count": 16,
   "metadata": {},
   "outputs": [
    {
     "output_type": "execute_result",
     "data": {
      "text/plain": "str"
     },
     "metadata": {},
     "execution_count": 16
    }
   ],
   "source": [
    "type('auto' + 'movil')"
   ]
  },
  {
   "cell_type": "markdown",
   "metadata": {},
   "source": [
    "El operador `in` permite __comprobar si un valor o variable pertenece a una secuencia__. Es un operador binario con asociatividad por la derecha. Además, puede ser utilizado en conjunto con el operador `not` lo que permite comprobar si elemento no pertenece a una secuencia."
   ]
  },
  {
   "cell_type": "code",
   "execution_count": 18,
   "metadata": {},
   "outputs": [
    {
     "output_type": "execute_result",
     "data": {
      "text/plain": "False"
     },
     "metadata": {},
     "execution_count": 18
    }
   ],
   "source": [
    "'limon' in fruta"
   ]
  },
  {
   "cell_type": "markdown",
   "metadata": {},
   "source": [
    "### Longitud y posición de elementos\n",
    "\n",
    "Cuando la longitud de una secuencia es `n`, cada elemento tiene como índice los números `0, 1, ..., n-1`. \n",
    "\n",
    "La __longitud de una secuencia__, se puede obtener por medio de la función `len()` que devuelve el número de elementos de una secuencia:"
   ]
  },
  {
   "cell_type": "code",
   "execution_count": 19,
   "metadata": {
    "tags": []
   },
   "outputs": [
    {
     "output_type": "stream",
     "name": "stdout",
     "text": "['manzana', 'platano', 'naranja', 'pomelo']\n"
    }
   ],
   "source": [
    "print(fruta)"
   ]
  },
  {
   "cell_type": "code",
   "execution_count": 20,
   "metadata": {},
   "outputs": [],
   "source": [
    "longitud = len(fruta)"
   ]
  },
  {
   "cell_type": "code",
   "execution_count": 21,
   "metadata": {
    "tags": []
   },
   "outputs": [
    {
     "output_type": "stream",
     "name": "stdout",
     "text": "4\n"
    }
   ],
   "source": [
    "print(longitud)"
   ]
  },
  {
   "cell_type": "markdown",
   "metadata": {},
   "source": [
    "El ítem `i` de la secuencia es seleccionado de la forma `[i]`."
   ]
  },
  {
   "cell_type": "code",
   "execution_count": 22,
   "metadata": {
    "tags": []
   },
   "outputs": [
    {
     "output_type": "stream",
     "name": "stdout",
     "text": "manzana\n"
    }
   ],
   "source": [
    "print(fruta[0])"
   ]
  },
  {
   "cell_type": "code",
   "execution_count": 23,
   "metadata": {},
   "outputs": [
    {
     "output_type": "execute_result",
     "data": {
      "text/plain": "'pomelo'"
     },
     "metadata": {},
     "execution_count": 23
    }
   ],
   "source": [
    "fruta[len(fruta)-1]"
   ]
  },
  {
   "cell_type": "markdown",
   "metadata": {},
   "source": [
    "Para conocer la __posición de un valor__ que existe en una secuencia, la función `index()` devuelve el índice del valor que pertenece a una secuencia:"
   ]
  },
  {
   "cell_type": "code",
   "execution_count": 24,
   "metadata": {},
   "outputs": [
    {
     "output_type": "execute_result",
     "data": {
      "text/plain": "1"
     },
     "metadata": {},
     "execution_count": 24
    }
   ],
   "source": [
    "fruta.index('platano')"
   ]
  },
  {
   "cell_type": "code",
   "execution_count": 25,
   "metadata": {},
   "outputs": [
    {
     "output_type": "execute_result",
     "data": {
      "text/plain": "2"
     },
     "metadata": {},
     "execution_count": 25
    }
   ],
   "source": [
    "'platano'.index('a')"
   ]
  },
  {
   "cell_type": "markdown",
   "metadata": {},
   "source": [
    "Si el valor está duplicado, la función entrega la primera ocurrencia. Además, la función `index()` permite indicar la posición de ínicio de búsqueda de la ocurrencia del valor sobre una secuencia.</p>\n",
    "\n",
    "En el siguiente ejemplo, la función devuelve la ocurrencia del valor `'o'` desde la quinta posición en la secuencia `'automovil'`:"
   ]
  },
  {
   "cell_type": "code",
   "execution_count": 26,
   "metadata": {},
   "outputs": [
    {
     "output_type": "execute_result",
     "data": {
      "text/plain": "5"
     },
     "metadata": {},
     "execution_count": 26
    }
   ],
   "source": [
    "cadena = 'automovil'\n",
    "cadena.index('o', 5)"
   ]
  },
  {
   "cell_type": "markdown",
   "metadata": {},
   "source": [
    "A continuación se presenta una sentencia que identifica la segunda ocurrencia del caracter <code>'o'</code> sobre la secuencia `cadena`:"
   ]
  },
  {
   "cell_type": "code",
   "execution_count": 27,
   "metadata": {},
   "outputs": [
    {
     "output_type": "execute_result",
     "data": {
      "text/plain": "5"
     },
     "metadata": {},
     "execution_count": 27
    }
   ],
   "source": [
    "cadena.index('o', cadena.index('o') + 1)"
   ]
  },
  {
   "cell_type": "markdown",
   "metadata": {},
   "source": [
    "### Segmentación\n",
    "\n",
    "Las secuencias también soportan la __segmentación__ `[i:j]`, que selecciona todos los elementos con índice `k` tal que `i <= k < j`. Cuando se utiliza como una expresión, el segmento es una secuencia del mismo tipo, lo que implica que el conjunto de índices se vuelve a numerar para que comience en `0`.\n",
    "\n",
    "Por ejemplo, aplicando segmentación sobre un `str`:"
   ]
  },
  {
   "cell_type": "code",
   "execution_count": 28,
   "metadata": {
    "tags": []
   },
   "outputs": [
    {
     "output_type": "stream",
     "name": "stdout",
     "text": "automovil\n"
    }
   ],
   "source": [
    "print(cadena)"
   ]
  },
  {
   "cell_type": "code",
   "execution_count": 32,
   "metadata": {},
   "outputs": [
    {
     "output_type": "execute_result",
     "data": {
      "text/plain": "'auto'"
     },
     "metadata": {},
     "execution_count": 32
    }
   ],
   "source": [
    "cadena[:4]"
   ]
  },
  {
   "cell_type": "markdown",
   "metadata": {},
   "source": [
    "Otro ejemplo, utilizando la ocurrencia de elementos:"
   ]
  },
  {
   "cell_type": "code",
   "execution_count": 33,
   "metadata": {},
   "outputs": [
    {
     "output_type": "execute_result",
     "data": {
      "text/plain": "'auto'"
     },
     "metadata": {},
     "execution_count": 33
    }
   ],
   "source": [
    "cadena = 'automovil'\n",
    "cadena[0: cadena.index('o') + 1]"
   ]
  },
  {
   "cell_type": "markdown",
   "metadata": {},
   "source": [
    "Aplicando la segmentación sobre una `list`:"
   ]
  },
  {
   "cell_type": "code",
   "execution_count": 34,
   "metadata": {
    "scrolled": true
   },
   "outputs": [
    {
     "output_type": "execute_result",
     "data": {
      "text/plain": "['manzana', 'platano']"
     },
     "metadata": {},
     "execution_count": 34
    }
   ],
   "source": [
    "fruta[:2]"
   ]
  },
  {
   "cell_type": "markdown",
   "metadata": {},
   "source": [
    "### Mutación de secuencias\n",
    "\n",
    "- Python proporciona un conjunto operaciones que permiten __modificar__, __agregar__ y __eliminar__ valores de una secuencia mutable.\n",
    "- Para modificar elementos de una secuencia, __se selecciona dicho elemento mediante su índice__ y se le asigna el nuevo valor."
   ]
  },
  {
   "cell_type": "markdown",
   "metadata": {},
   "source": [
    "Para __agregar elementos la final de una secuencia__, se emplea la función `append()`:"
   ]
  },
  {
   "cell_type": "code",
   "execution_count": 35,
   "metadata": {},
   "outputs": [
    {
     "output_type": "execute_result",
     "data": {
      "text/plain": "['manzana', 'platano', 'naranja', 'pomelo']"
     },
     "metadata": {},
     "execution_count": 35
    }
   ],
   "source": [
    "fruta"
   ]
  },
  {
   "cell_type": "code",
   "execution_count": 36,
   "metadata": {},
   "outputs": [
    {
     "output_type": "execute_result",
     "data": {
      "text/plain": "['manzana', 'platano', 'naranja', 'pomelo', 'melon']"
     },
     "metadata": {},
     "execution_count": 36
    }
   ],
   "source": [
    "fruta.append('melon')\n",
    "fruta"
   ]
  },
  {
   "cell_type": "markdown",
   "metadata": {},
   "source": [
    "Para __insertar un nuevo valor__ en la posición cuyo índice es `k` se utiliza la operación `insert()`. Por ejemplo, para insertar un elemento en la cuarta posición:"
   ]
  },
  {
   "cell_type": "code",
   "execution_count": 37,
   "metadata": {},
   "outputs": [
    {
     "output_type": "execute_result",
     "data": {
      "text/plain": "['manzana', 'platano', 'naranja', 'sandia', 'pomelo', 'melon']"
     },
     "metadata": {},
     "execution_count": 37
    }
   ],
   "source": [
    "fruta.insert(3, 'sandia')\n",
    "fruta"
   ]
  },
  {
   "cell_type": "markdown",
   "metadata": {},
   "source": [
    "Para __eliminar un valor__ de una lista se utiliza la función `remove()`. Si el valor a eliminar está repetido, se elimina sólo su primera aparición:"
   ]
  },
  {
   "cell_type": "code",
   "execution_count": 38,
   "metadata": {},
   "outputs": [
    {
     "output_type": "execute_result",
     "data": {
      "text/plain": "['manzana', 'naranja', 'sandia', 'pomelo', 'melon']"
     },
     "metadata": {},
     "execution_count": 38
    }
   ],
   "source": [
    "fruta.remove('platano')\n",
    "fruta"
   ]
  },
  {
   "cell_type": "markdown",
   "metadata": {},
   "source": [
    "### Asignación de referencias\n",
    "\n",
    "- En Python, __las listas son almacenadas mediante referencias a las secuencias de elementos__.\n",
    "- La asignación del contenido de una variable que almacena una lista, supone la copia de la referencia hacia dichos elementos de la lista, almacenados en una zona de memoria. Una interpretación gráfica:"
   ]
  },
  {
   "source": [
    "![Asignación de listas](img/list_assignment.svg)"
   ],
   "cell_type": "markdown",
   "metadata": {}
  },
  {
   "cell_type": "code",
   "execution_count": 39,
   "metadata": {},
   "outputs": [],
   "source": [
    "a = [1, 4, 5]\n",
    "b = [1, 4, 5]\n",
    "c = a"
   ]
  },
  {
   "cell_type": "code",
   "execution_count": 40,
   "metadata": {},
   "outputs": [
    {
     "output_type": "execute_result",
     "data": {
      "text/plain": "[1, 4, 5]"
     },
     "metadata": {},
     "execution_count": 40
    }
   ],
   "source": [
    "a"
   ]
  },
  {
   "cell_type": "code",
   "execution_count": 41,
   "metadata": {},
   "outputs": [
    {
     "output_type": "execute_result",
     "data": {
      "text/plain": "[1, 4, 5]"
     },
     "metadata": {},
     "execution_count": 41
    }
   ],
   "source": [
    "b"
   ]
  },
  {
   "cell_type": "code",
   "execution_count": 42,
   "metadata": {},
   "outputs": [
    {
     "output_type": "execute_result",
     "data": {
      "text/plain": "[1, 4, 5]"
     },
     "metadata": {},
     "execution_count": 42
    }
   ],
   "source": [
    "c"
   ]
  },
  {
   "cell_type": "markdown",
   "metadata": {},
   "source": [
    "Notar que la comparación entre las distintas variables entrega como resultado que son iguales:"
   ]
  },
  {
   "cell_type": "code",
   "execution_count": 43,
   "metadata": {},
   "outputs": [
    {
     "output_type": "execute_result",
     "data": {
      "text/plain": "True"
     },
     "metadata": {},
     "execution_count": 43
    }
   ],
   "source": [
    "(a == b) and (a == c) and (b == c)"
   ]
  },
  {
   "cell_type": "markdown",
   "metadata": {},
   "source": [
    "Para estos casos, cuando dos (o más) variables hacen referencia a la misma zona en memoria, el operador `is` __permite identificar si dos (o más) objetos residen en la misma zona de memoria__."
   ]
  },
  {
   "cell_type": "code",
   "execution_count": 44,
   "metadata": {},
   "outputs": [
    {
     "output_type": "execute_result",
     "data": {
      "text/plain": "False"
     },
     "metadata": {},
     "execution_count": 44
    }
   ],
   "source": [
    "b is a"
   ]
  },
  {
   "cell_type": "code",
   "execution_count": 45,
   "metadata": {},
   "outputs": [
    {
     "output_type": "execute_result",
     "data": {
      "text/plain": "True"
     },
     "metadata": {},
     "execution_count": 45
    }
   ],
   "source": [
    "c is a"
   ]
  },
  {
   "cell_type": "markdown",
   "metadata": {},
   "source": [
    "Notar que, al realizar una __asignación de una variable a partir de referencias, los elementos de dicha variable no son independientes__. Esto es, si se modifica la variable, entonces se modifican los elementos a los cuales hacen referencia."
   ]
  },
  {
   "cell_type": "code",
   "execution_count": 46,
   "metadata": {
    "scrolled": true,
    "tags": []
   },
   "outputs": [
    {
     "output_type": "stream",
     "name": "stdout",
     "text": "[1, 4, 5, 8]\n"
    }
   ],
   "source": [
    "a.append(8)\n",
    "print(c)"
   ]
  }
 ],
 "metadata": {
  "kernelspec": {
   "display_name": "Python 3",
   "language": "python",
   "name": "python3"
  },
  "language_info": {
   "codemirror_mode": {
    "name": "ipython",
    "version": 3
   },
   "file_extension": ".py",
   "mimetype": "text/x-python",
   "name": "python",
   "nbconvert_exporter": "python",
   "pygments_lexer": "ipython3",
   "version": "3.7.6-final"
  }
 },
 "nbformat": 4,
 "nbformat_minor": 2
}
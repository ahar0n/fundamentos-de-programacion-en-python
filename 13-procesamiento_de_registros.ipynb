{
 "cells": [
  {
   "cell_type": "markdown",
   "metadata": {},
   "source": [
    "# Procesamiento de registros\n",
    "\n",
    "### Contenidos\n",
    "\n",
    "1. Descripción de registro\n",
    "1. Lectura de registros\n",
    "1. Escritura de registros\n"
   ]
  },
  {
   "cell_type": "markdown",
   "metadata": {},
   "source": [
    "## Registros\n",
    "\n",
    "Un conjunto de datos tabulares, estructurados como una colección de entidades elementales denominadas __registros__, que son de igual tipo y que se componen a su vez de entidades mas pequeñas denominadas __campos__.\n",
    "- __Registro es una colección de campos__ logicamente relacionados que pueden ser tratados en un programa como una unidad.\n",
    "- __Campo es un item o elemento de datos__, considerado la unidad mínima de información de un registro. Generalmente se caracterizan por su tipo (e.g. entero, lógico)."
   ]
  },
  {
   "cell_type": "markdown",
   "metadata": {},
   "source": [
    "![Jerarquía de datos](./img/data_hierarchy.png)"
   ]
  },
  {
   "cell_type": "markdown",
   "metadata": {},
   "source": [
    "- Es un caso particular de __archivos de organización secuencial__.\n",
    "- Es una __serie continua de caracteres que se pueden leer uno tras otro__.\n",
    "- Es un archivo en el que __cada registro es del tipo de cadena de texto__.\n",
    "- Normalmente __consisten en paquetes pequeños de datos__ que son individualmente diferentes pero que __comparten algún rasgo en común__.\n",
    "- La forma en que __se agrupan los datos es arbitraria__. \n",
    "- __Existen estructuras estandarizadas__ para cualquier propósitos."
   ]
  },
  {
   "cell_type": "markdown",
   "metadata": {},
   "source": [
    "## Archivos de registros separador por coma (CSV)\n",
    "\n",
    "De acuerdo a su especificación [RFC 4180](https://tools.ietf.org/html/rfc4180), el formato:\n",
    "\n",
    "- Es un __archivo de texto en formato plano__.\n",
    "- Almacena datos como en __registros__, cada uno de los cuales está localizado en una línea separada por un salto de línea.\n",
    "- Cada registro almacena datos tabulares __con valores separados por coma__, aunque también pueden estar separados por otro símbolo, como el punto y coma `;`, espacios, tabulaciones (`\\t`), etc.\n",
    "- Comunmente se utiliza para el __intercambio de datos__."
   ]
  },
  {
   "source": [
    "En Python, el módulo [`CSV`](https://docs.python.org/3/library/csv.html):\n",
    "\n",
    "- Implementa clases para leer y escribir datos tabulares en formato CSV. \n",
    "- Permite describir los formatos CSV comprendidos por otras aplicaciones o definir formatos CSV propios. \n",
    "- Otra alternativa consiste en leer y escribir datos en forma de diccionario usando\n",
    "las clases `DictReader` y `DictWriter`."
   ],
   "cell_type": "markdown",
   "metadata": {}
  },
  {
   "cell_type": "markdown",
   "metadata": {},
   "source": [
    "## Lectura de registros\n",
    "\n",
    "La función `reader()` retorna un __objeto iterable sobre los registros del archivo CSV__. \n",
    "\n",
    "El siguiente código obtiene el contenido del archivo como una lista, donde cada elemento es una cadena de texto."
   ]
  },
  {
   "cell_type": "code",
   "execution_count": null,
   "metadata": {},
   "outputs": [],
   "source": [
    "from csv import reader\n",
    "\n",
    "csvFile = open('./data/pozos.csv', 'r')\n",
    "csvRegs = reader(csvFile)\n",
    "for row in csvRegs:\n",
    "    print(row)\n",
    "csvFile.close()"
   ]
  },
  {
   "cell_type": "markdown",
   "metadata": {},
   "source": [
    "El _keyword_ `delimiter` permite pasar como argumento el __delimitador de campos__. Por defecto, corresponde es coma  (`,`).\n",
    "\n",
    "Siguiendo con el ejemplo anterior, notar como cambian los elementos de la lista al definir como delimitidador de campo el símbolo `;`:"
   ]
  },
  {
   "cell_type": "code",
   "execution_count": null,
   "metadata": {},
   "outputs": [],
   "source": [
    "csvFile = open('./data/pozos.csv')\n",
    "csvReader = reader(csvFile, delimiter=';')\n",
    "for row in csvReader:\n",
    "    print(row)\n",
    "csvFile.close()"
   ]
  },
  {
   "cell_type": "markdown",
   "metadata": {},
   "source": [
    "## Lectura de registros como diccionario\n",
    "\n",
    "La función `DictReader()` __crea un objeto que mapea los campos de cada registro a un diccionario__. \n",
    "- Las __claves del diccionario se definen__ incluyendo como argumento el parámetro de _keyword_ `fieldnames`,  cuyo valor es una secuencia que contiene cada una de las claves del diccionario.\n",
    "\n",
    "En el siguiente ejemplo, los registros del archivo `pozos_no_header.csv` son leídos desde diccionarios de claves `date` y `height`, asociadas a cada campo, respectivamente. Además, imprime todos los valores de un campo, utilizando su respectivo nombre."
   ]
  },
  {
   "cell_type": "code",
   "execution_count": null,
   "metadata": {},
   "outputs": [],
   "source": [
    "from csv import DictReader\n",
    "\n",
    "csvFile = open('./data/pozos_no_header.csv')\n",
    "dReader = DictReader(csvFile, delimiter=';', fieldnames=['date', 'height'])\n",
    "for rcrd in dReader:\n",
    "    print(rcrd['date'])\n",
    "csvFile.close()"
   ]
  },
  {
   "cell_type": "markdown",
   "metadata": {},
   "source": [
    "El atributo `.fieldnames` __retorna una secuencia con los nombres de los campos__."
   ]
  },
  {
   "cell_type": "code",
   "execution_count": null,
   "metadata": {},
   "outputs": [],
   "source": [
    "print(dReader.fieldnames)"
   ]
  },
  {
   "cell_type": "markdown",
   "metadata": {},
   "source": [
    "Si los nombres de campos no se definen al crear el objeto, el atributo `.fieldnames` __se inicializa al primer acceso o al leer el primer registro del fichero__.\n",
    "\n",
    "En el siguiente ejemplo, los nombres de campos se definen utilizando los encabezados del archivo CSV:"
   ]
  },
  {
   "cell_type": "code",
   "execution_count": null,
   "metadata": {},
   "outputs": [],
   "source": [
    "csvFile = open('./data/pozos.csv')\n",
    "dReader = DictReader(csvFile, delimiter=';')\n",
    "next(dReader)\n",
    "csvFile.close()\n",
    "print(dReader.fieldnames)"
   ]
  },
  {
   "cell_type": "markdown",
   "metadata": {},
   "source": [
    "__Nota__: Si una fila tiene más campos que nombres de campo, los datos restantes se alamcenan en una lista con el nombre de campo `None`. Si una fila no vacía tiene menos campos que nombres de campo, los valores que faltan se rellenan con `None`."
   ]
  },
  {
   "cell_type": "markdown",
   "metadata": {},
   "source": [
    "## Escritura de registros\n",
    "\n",
    "La función `write()` retorna un objeto responsable de convertir los datos en cadenas delimitadas en el símbolo dado como argumento con el _keyword_ `delimiter`.\n",
    "\n",
    "- El método `writerow()` de la clase `write`, escribe un objeto iterable (e.g. registro), de acuerdo al formato definido al momento de crear el objeto `write`."
   ]
  },
  {
   "cell_type": "code",
   "execution_count": null,
   "metadata": {},
   "outputs": [],
   "source": [
    "from datetime import datetime as dt\n",
    "from csv import writer\n",
    "\n",
    "user = input('usuario: ')\n",
    "\n",
    "csvFile = open('./data/userlog.csv', 'a')\n",
    "csvWriter = writer(csvFile, delimiter=';')\n",
    "csvWriter.writerow([str(dt.now()), user])\n",
    "csvFile.close()"
   ]
  },
  {
   "cell_type": "markdown",
   "metadata": {},
   "source": [
    "El método `writerows()` escribe una lista de objetos iterables (e.g. lista de registros), de acuerdo al formato definido al momento de crear el objeto `write`."
   ]
  },
  {
   "cell_type": "code",
   "execution_count": null,
   "metadata": {
    "collapsed": true
   },
   "outputs": [],
   "source": [
    "rcrds = [\n",
    "    ['María Perez', 18, 'F'],\n",
    "    ['Juan Pino', 25, 'M'],\n",
    "    ['Roberto Pinto', 17, 'M']\n",
    "]\n",
    "csvFile = open('./data/personas.csv', 'w')\n",
    "csvWriter = writer(csvFile, delimiter=',')\n",
    "csvWriter.writerows(rcrds)\n",
    "csvFile.close()"
   ]
  },
  {
   "cell_type": "markdown",
   "metadata": {},
   "source": [
    "### Escritura desde un diccionario\n",
    "\n",
    "La función `DictWriter()` retorna un objeto que mapea los diccionarios en filas. Recibe como argumento dos parámetros: \n",
    "- Archivo CSV abierto en modo de escritura. \n",
    "- _Keyword_ `fieldnames` cuyo valor es una secuencia que identifica el orden de los valores del diccionario pasados al método `writerow()` para escribirlos en el archivo CSV, de acuerdo al formato definido al crear el objeto `DictWriter`.\n",
    "\n",
    "El método `writeheader()` escribe una fila (registro) en el archivo CSV con el nombre del encabezado."
   ]
  },
  {
   "cell_type": "code",
   "execution_count": null,
   "metadata": {
    "collapsed": true
   },
   "outputs": [],
   "source": [
    "from csv import DictWriter\n",
    "\n",
    "horario = {\n",
    "    '0': {'nombre': 'María Perez', 'edad': 18, 'genero': 'F'},\n",
    "    '1': {'nombre': 'Juan Pino', 'edad': 25, 'genero': 'M'},\n",
    "    '2': {'nombre': 'Roberto Pinto', 'edad': 17, 'genero': 'M'}\n",
    "}\n",
    "csvFile = open('./data/horario.csv', 'w')\n",
    "fieldnames = list(horario['0'].keys()) #['nombre', 'edad', 'genero']\n",
    "csvWriter = DictWriter(csvFile, delimiter=';', fieldnames=fieldnames)\n",
    "csvWriter.writeheader()\n",
    "for key, rcrd in horario.items():\n",
    "    csvWriter.writerow(rcrd)\n",
    "csvFile.close()"
   ]
  },
  {
   "cell_type": "markdown",
   "metadata": {},
   "source": [
    "## Actividad\n",
    "\n",
    "El fichero `etc/passwd` de los sistemas Unix contiene información acerca de los usuarios del sistema. Un ejemplo de un fichero con dos registros se presenta a continuación:\n",
    "\n",
    "```\n",
    "juanp:x0da11y:1000:2000:Juan Perez:/home/al55555:/bin/bash\n",
    "d4niela:y1aff0x:1001:2000:Daniela Rojo:/home/d4niela:/bin/bash\n",
    "```\n",
    "\n",
    "En este archivo, cada campo está separado por dos puntos (<code>:</code>). En orden, aparecen:</p>\n",
    "\n",
    "- `user`: Nombre de usuario\n",
    "- `pass`: Contraseña cifrada\n",
    "- `id`: Número único de usuario (id)\n",
    "- `group`: Número de grupo\n",
    "- `name`: Nombre real del usuario\n",
    "- `userpath`: Ruta del directorio principal del usuario\n",
    "- `bashpath`: Ruta del interprete de órdenes\n",
    "    \n",
    "A1. Diseñe la función `user2dict(fname)` que retorne un diccionario con de todos los usuario registrados en un archivo `etc/passwd`. Cada campo del registro deberá ser asociado a su respectiva clave en el diccionario, omitiendo los campos `userpath` y `bashpath`. Considere utilizar como identificador de cada usuario el nombre de usuario (`id`). Por ejemplo, para el archivo presentado anteriormente, el diccionario generado por la función debería quedar con la siguiente estructura:\n",
    "```\n",
    "{\n",
    "    1000: {'user': 'juanp', 'pass': 'x0da11y', 'group': 2000, 'name': 'Juan Perez'}, \n",
    "    1001: {'user': 'd4niela', 'pass': 'y1aff0x', 'group': 2000, 'name': 'Daniela Rojo'}\n",
    "}\n",
    "```\n",
    "\n",
    "A2. Diseñe la función `nombre(fname, usuario)` que retorne el nombre completo del usuario a partir de nombre de usuario (`usuario`).\n",
    "\n",
    "A3. Diseñe la función `buscar(fname, keyword)` que retorne una lista con el número único de usuario (id) de todos los usuarios cuyo nombre contenga la palabra `keyword`."
   ]
  }
 ],
 "metadata": {
  "kernelspec": {
   "display_name": "Python 3",
   "language": "python",
   "name": "python3"
  },
  "language_info": {
   "codemirror_mode": {
    "name": "ipython",
    "version": 3
   },
   "file_extension": ".py",
   "mimetype": "text/x-python",
   "name": "python",
   "nbconvert_exporter": "python",
   "pygments_lexer": "ipython3",
   "version": "3.8.3-final"
  }
 },
 "nbformat": 4,
 "nbformat_minor": 2
}